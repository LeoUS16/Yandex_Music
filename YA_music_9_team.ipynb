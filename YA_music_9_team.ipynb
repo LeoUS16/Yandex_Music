{
 "cells": [
  {
   "cell_type": "markdown",
   "id": "9bc7f4cc",
   "metadata": {},
   "source": [
    "# Проект Яндекс.Музыка\n",
    "\n",
    "## Обнаружение каверов музыкальных треков"
   ]
  },
  {
   "cell_type": "markdown",
   "id": "0c1d8cfe",
   "metadata": {},
   "source": [
    "Для разнообразия плейлиста пользователя некоторый интерес представляет добавление в список проигрывания разнообразных исполнений песен, т.н. называемых каверов. Их отличительной особенностью является значительное совпадение текстов песни, но наложенных на видоизмененную музыку.\n",
    "\n",
    "Обнаружение треков каверов - важная продуктовая задача, которая может значительно улучшить качество рекомендаций музыкального сервиса и повысить счастье наших пользователей. Если мы умеем с высокой точностью классифицировать каверы и связывать их между собой, то можно предложить пользователю новые возможности для управления потоком треков.\n",
    "Для поиска оригинала песни или поиска каверов на песню требуется предоставить решение. \n",
    "\n",
    "### Исходные данные\n",
    "\n",
    "Исходными данными выступают некоторые метаданные песни и разметка кавер/не кавер. При этом ограничений на включение дополнительной информации не накладывается. Необходимо разработать ML-продукт, который:\n",
    "\n",
    "- Находит все кавер-треки и/или исходники к заданному треку в датасете\n",
    "- Перечисляет все кавер-треки и/или оригиналы к заданному, указывает положение данного трека в цепочке каверов\n",
    "\n",
    "### Требования и замечания\n",
    "Априорно мы утверждаем, что оригинальная песня - это песня, появившаяся раньше всех из найденных. Поэтому к любому решению стоит добавлять определенную вероятность того, что песня не оригинальная, т.к. оригинал не вошел в какую-либо базу музыки. "
   ]
  },
  {
   "cell_type": "markdown",
   "id": "f90f33c0",
   "metadata": {},
   "source": [
    "## Обзор исходных данных (EDA) "
   ]
  },
  {
   "cell_type": "markdown",
   "id": "4dfc8281",
   "metadata": {},
   "source": [
    "Нам были представлена база данных о треках, состаящая из трех датасетов:\n",
    "\n",
    "- `covers.json` содержит разметку каверов, сделанную редакторами сервиса;\n",
    "\n",
    "- `meta.json` содержит метаинформацию о треках;\n",
    "\n",
    "- `lyrics.json` содержит тексты песен."
   ]
  },
  {
   "cell_type": "markdown",
   "id": "9a77c5d6",
   "metadata": {},
   "source": [
    "Для начала переведем json формат в датафрейм:"
   ]
  },
  {
   "cell_type": "code",
   "execution_count": 6,
   "id": "61596ab4",
   "metadata": {},
   "outputs": [],
   "source": [
    "import pandas as pd\n",
    "from datetime import datetime\n",
    "import json\n",
    "import matplotlib.pyplot as plt\n",
    "import seaborn as sns\n",
    "import musicbrainzngs as m\n",
    "import requests\n",
    "import re\n",
    "import pydash\n",
    "import time\n",
    "\n",
    "from secondhandsongs import Api\n",
    "from collections import OrderedDict\n",
    "from IPython.display import clear_output\n"
   ]
  },
  {
   "cell_type": "code",
   "execution_count": 7,
   "id": "637bfc84",
   "metadata": {},
   "outputs": [],
   "source": [
    "import warnings\n",
    "warnings.simplefilter(action=\"ignore\", category=FutureWarning)"
   ]
  },
  {
   "cell_type": "code",
   "execution_count": 8,
   "id": "a4f5070d",
   "metadata": {},
   "outputs": [],
   "source": [
    "def read_json(file_name:str):\n",
    "    data = []\n",
    "\n",
    "    # Открываем файл JSON для чтения\n",
    "    with open(file_name, 'r') as file:\n",
    "        for line in file:\n",
    "            # Пытаемся разобрать каждую строку JSON и добавить ее в список\n",
    "            try:\n",
    "                obj = json.loads(line)\n",
    "                data.append(obj)\n",
    "            except json.JSONDecodeError:\n",
    "                print(f\"Ошибка при разборе строки: {line}\")\n",
    "    return pd.DataFrame(data)\n",
    "\n",
    "covers = read_json('covers.json')\n",
    "text = read_json('lyrics.json')\n",
    "meta = read_json('meta.json')"
   ]
  },
  {
   "cell_type": "markdown",
   "id": "b146c688",
   "metadata": {},
   "source": [
    "## Файл сovers:"
   ]
  },
  {
   "cell_type": "code",
   "execution_count": 9,
   "id": "9c2dffd4",
   "metadata": {},
   "outputs": [
    {
     "data": {
      "text/html": [
       "<div>\n",
       "<style scoped>\n",
       "    .dataframe tbody tr th:only-of-type {\n",
       "        vertical-align: middle;\n",
       "    }\n",
       "\n",
       "    .dataframe tbody tr th {\n",
       "        vertical-align: top;\n",
       "    }\n",
       "\n",
       "    .dataframe thead th {\n",
       "        text-align: right;\n",
       "    }\n",
       "</style>\n",
       "<table border=\"1\" class=\"dataframe\">\n",
       "  <thead>\n",
       "    <tr style=\"text-align: right;\">\n",
       "      <th></th>\n",
       "      <th>original_track_id</th>\n",
       "      <th>track_id</th>\n",
       "      <th>track_remake_type</th>\n",
       "    </tr>\n",
       "  </thead>\n",
       "  <tbody>\n",
       "    <tr>\n",
       "      <th>0</th>\n",
       "      <td>eeb69a3cb92300456b6a5f4162093851</td>\n",
       "      <td>eeb69a3cb92300456b6a5f4162093851</td>\n",
       "      <td>ORIGINAL</td>\n",
       "    </tr>\n",
       "    <tr>\n",
       "      <th>1</th>\n",
       "      <td>fe7ee8fc1959cc7214fa21c4840dff0a</td>\n",
       "      <td>fe7ee8fc1959cc7214fa21c4840dff0a</td>\n",
       "      <td>ORIGINAL</td>\n",
       "    </tr>\n",
       "    <tr>\n",
       "      <th>2</th>\n",
       "      <td>cd89fef7ffdd490db800357f47722b20</td>\n",
       "      <td>cd89fef7ffdd490db800357f47722b20</td>\n",
       "      <td>ORIGINAL</td>\n",
       "    </tr>\n",
       "    <tr>\n",
       "      <th>3</th>\n",
       "      <td>995665640dc319973d3173a74a03860c</td>\n",
       "      <td>995665640dc319973d3173a74a03860c</td>\n",
       "      <td>ORIGINAL</td>\n",
       "    </tr>\n",
       "    <tr>\n",
       "      <th>4</th>\n",
       "      <td>None</td>\n",
       "      <td>d6288499d0083cc34e60a077b7c4b3e1</td>\n",
       "      <td>COVER</td>\n",
       "    </tr>\n",
       "    <tr>\n",
       "      <th>...</th>\n",
       "      <td>...</td>\n",
       "      <td>...</td>\n",
       "      <td>...</td>\n",
       "    </tr>\n",
       "    <tr>\n",
       "      <th>71592</th>\n",
       "      <td>4788e0bf61d80ef5ec9380aa8a8119d9</td>\n",
       "      <td>4788e0bf61d80ef5ec9380aa8a8119d9</td>\n",
       "      <td>ORIGINAL</td>\n",
       "    </tr>\n",
       "    <tr>\n",
       "      <th>71593</th>\n",
       "      <td>None</td>\n",
       "      <td>78b2db35476f134dc3cdfbf4d77ba034</td>\n",
       "      <td>COVER</td>\n",
       "    </tr>\n",
       "    <tr>\n",
       "      <th>71594</th>\n",
       "      <td>None</td>\n",
       "      <td>e720ff378efe032df56e0e656a6a92d3</td>\n",
       "      <td>COVER</td>\n",
       "    </tr>\n",
       "    <tr>\n",
       "      <th>71595</th>\n",
       "      <td>554e33d79e258da91149c3a4985cf6a1</td>\n",
       "      <td>554e33d79e258da91149c3a4985cf6a1</td>\n",
       "      <td>ORIGINAL</td>\n",
       "    </tr>\n",
       "    <tr>\n",
       "      <th>71596</th>\n",
       "      <td>7b0f6ff24137be50cf5ea5f82d789448</td>\n",
       "      <td>7b0f6ff24137be50cf5ea5f82d789448</td>\n",
       "      <td>ORIGINAL</td>\n",
       "    </tr>\n",
       "  </tbody>\n",
       "</table>\n",
       "<p>71597 rows × 3 columns</p>\n",
       "</div>"
      ],
      "text/plain": [
       "                      original_track_id                          track_id  \\\n",
       "0      eeb69a3cb92300456b6a5f4162093851  eeb69a3cb92300456b6a5f4162093851   \n",
       "1      fe7ee8fc1959cc7214fa21c4840dff0a  fe7ee8fc1959cc7214fa21c4840dff0a   \n",
       "2      cd89fef7ffdd490db800357f47722b20  cd89fef7ffdd490db800357f47722b20   \n",
       "3      995665640dc319973d3173a74a03860c  995665640dc319973d3173a74a03860c   \n",
       "4                                  None  d6288499d0083cc34e60a077b7c4b3e1   \n",
       "...                                 ...                               ...   \n",
       "71592  4788e0bf61d80ef5ec9380aa8a8119d9  4788e0bf61d80ef5ec9380aa8a8119d9   \n",
       "71593                              None  78b2db35476f134dc3cdfbf4d77ba034   \n",
       "71594                              None  e720ff378efe032df56e0e656a6a92d3   \n",
       "71595  554e33d79e258da91149c3a4985cf6a1  554e33d79e258da91149c3a4985cf6a1   \n",
       "71596  7b0f6ff24137be50cf5ea5f82d789448  7b0f6ff24137be50cf5ea5f82d789448   \n",
       "\n",
       "      track_remake_type  \n",
       "0              ORIGINAL  \n",
       "1              ORIGINAL  \n",
       "2              ORIGINAL  \n",
       "3              ORIGINAL  \n",
       "4                 COVER  \n",
       "...                 ...  \n",
       "71592          ORIGINAL  \n",
       "71593             COVER  \n",
       "71594             COVER  \n",
       "71595          ORIGINAL  \n",
       "71596          ORIGINAL  \n",
       "\n",
       "[71597 rows x 3 columns]"
      ]
     },
     "execution_count": 9,
     "metadata": {},
     "output_type": "execute_result"
    }
   ],
   "source": [
    "covers"
   ]
  },
  {
   "cell_type": "code",
   "execution_count": 10,
   "id": "173f8826",
   "metadata": {},
   "outputs": [
    {
     "name": "stdout",
     "output_type": "stream",
     "text": [
      "<class 'pandas.core.frame.DataFrame'>\n",
      "RangeIndex: 71597 entries, 0 to 71596\n",
      "Data columns (total 3 columns):\n",
      " #   Column             Non-Null Count  Dtype \n",
      "---  ------             --------------  ----- \n",
      " 0   original_track_id  4821 non-null   object\n",
      " 1   track_id           71597 non-null  object\n",
      " 2   track_remake_type  71597 non-null  object\n",
      "dtypes: object(3)\n",
      "memory usage: 1.6+ MB\n"
     ]
    }
   ],
   "source": [
    "covers.info()"
   ]
  },
  {
   "cell_type": "markdown",
   "id": "3920d097",
   "metadata": {},
   "source": [
    "Датафрейм `covers` содержит следующие данные:\n",
    "\n",
    "- `track_id` - уникальный идентификатор трека;\n",
    "\n",
    "- `track_remake_type` - метка, присвоенная редакторами. Может принимать значения ORIGINAL и COVER;\n",
    "\n",
    "- `original_track_id` - уникальный идентификатор исходного трека."
   ]
  },
  {
   "cell_type": "markdown",
   "id": "4b5e2de4",
   "metadata": {},
   "source": [
    "Как видно из данных, столбец `original_track_id` имеет пропуски в данных."
   ]
  },
  {
   "cell_type": "markdown",
   "id": "053ce4dd",
   "metadata": {},
   "source": [
    "Посмотрим, содержит ли датафрейм дубликаты:"
   ]
  },
  {
   "cell_type": "code",
   "execution_count": 11,
   "id": "5e777dd4",
   "metadata": {},
   "outputs": [
    {
     "data": {
      "text/plain": [
       "0"
      ]
     },
     "execution_count": 11,
     "metadata": {},
     "output_type": "execute_result"
    }
   ],
   "source": [
    "covers.duplicated().sum()"
   ]
  },
  {
   "cell_type": "markdown",
   "id": "d6ff1c6c",
   "metadata": {},
   "source": [
    "Дубликатов нет, посмотрим, имеются ли одинаковые треки по столбцу `track_id`:"
   ]
  },
  {
   "cell_type": "code",
   "execution_count": 12,
   "id": "deb2d66a",
   "metadata": {},
   "outputs": [
    {
     "data": {
      "text/plain": [
       "71597"
      ]
     },
     "execution_count": 12,
     "metadata": {},
     "output_type": "execute_result"
    }
   ],
   "source": [
    "covers['track_id'].nunique()"
   ]
  },
  {
   "cell_type": "markdown",
   "id": "0913ca63",
   "metadata": {},
   "source": [
    "Все треки уникальные. Построим гистограмму распределения типов треков на кавер и оригинал:"
   ]
  },
  {
   "cell_type": "code",
   "execution_count": 13,
   "id": "89a6527c",
   "metadata": {},
   "outputs": [
    {
     "data": {
      "image/png": "[encoded data removed]",
      "text/plain": [
       "<Figure size 640x480 with 1 Axes>"
      ]
     },
     "metadata": {},
     "output_type": "display_data"
    },
    {
     "name": "stdout",
     "output_type": "stream",
     "text": [
      "track_remake_type\n",
      "COVER       67304\n",
      "ORIGINAL     4293\n",
      "Name: count, dtype: int64\n"
     ]
    }
   ],
   "source": [
    "plt.hist(covers['track_remake_type'], bins=4, color='blue', alpha=0.7)\n",
    "plt.xlabel('Тип трека')\n",
    "plt.ylabel('Количество треков')\n",
    "plt.title('Гистограмма распределения типов треков')\n",
    "plt.show()\n",
    "print(covers['track_remake_type'].value_counts())"
   ]
  },
  {
   "cell_type": "markdown",
   "id": "90b2f383",
   "metadata": {},
   "source": [
    "Как видим каверов датафрейм содежрит намного больше:\n",
    "\n",
    "- количество каверов - 67304;\n",
    "- количество оригиналов - 4293."
   ]
  },
  {
   "cell_type": "markdown",
   "id": "1ef120ab",
   "metadata": {},
   "source": [
    "### Краткий вывод\n",
    "\n",
    "Датафрейм `covers` содержит уникальные значения `track_id` и `track_remake_type`, однако имеет пропуски в столбце `original_track_id`."
   ]
  },
  {
   "cell_type": "markdown",
   "id": "8f50a4c2",
   "metadata": {},
   "source": [
    "## Text"
   ]
  },
  {
   "cell_type": "markdown",
   "id": "3382d02c",
   "metadata": {},
   "source": [
    "Датафрейм `text` содержит следующие данные:\n",
    "\n",
    "- `track_id` - уникальный идентификатор трека;\n",
    "\n",
    "- `lyricId` - уникальный идентификатор текста;\n",
    "\n",
    "- `text` - текст трека."
   ]
  },
  {
   "cell_type": "code",
   "execution_count": 14,
   "id": "a312b64c",
   "metadata": {},
   "outputs": [
    {
     "data": {
      "text/html": [
       "<div>\n",
       "<style scoped>\n",
       "    .dataframe tbody tr th:only-of-type {\n",
       "        vertical-align: middle;\n",
       "    }\n",
       "\n",
       "    .dataframe tbody tr th {\n",
       "        vertical-align: top;\n",
       "    }\n",
       "\n",
       "    .dataframe thead th {\n",
       "        text-align: right;\n",
       "    }\n",
       "</style>\n",
       "<table border=\"1\" class=\"dataframe\">\n",
       "  <thead>\n",
       "    <tr style=\"text-align: right;\">\n",
       "      <th></th>\n",
       "      <th>lyricId</th>\n",
       "      <th>text</th>\n",
       "      <th>track_id</th>\n",
       "    </tr>\n",
       "  </thead>\n",
       "  <tbody>\n",
       "    <tr>\n",
       "      <th>0</th>\n",
       "      <td>a951f9504e89759e9d23039b7b17ec14</td>\n",
       "      <td>Живу сейчас обломами, обломками не той любви\\n...</td>\n",
       "      <td>1c4b1230f937e4c548ff732523214dcd</td>\n",
       "    </tr>\n",
       "    <tr>\n",
       "      <th>1</th>\n",
       "      <td>0c749bc3f01eb8e6cf986fa14ccfc585</td>\n",
       "      <td>Tell me your fable\\nA fable\\nTell me your fabl...</td>\n",
       "      <td>0faea89b0d7d6235b5b74def72511bd8</td>\n",
       "    </tr>\n",
       "    <tr>\n",
       "      <th>2</th>\n",
       "      <td>e2c8830fbc86e5964478243099eec23a</td>\n",
       "      <td>You're ashamed about all your fears and doubts...</td>\n",
       "      <td>9c6dc41d5ccd9968d07f055da5d8f741</td>\n",
       "    </tr>\n",
       "    <tr>\n",
       "      <th>3</th>\n",
       "      <td>e2c8830fbc86e5964478243099eec23a</td>\n",
       "      <td>You're ashamed about all your fears and doubts...</td>\n",
       "      <td>bfd04a73e9cffdf0e282c92219a86ea1</td>\n",
       "    </tr>\n",
       "    <tr>\n",
       "      <th>4</th>\n",
       "      <td>7624653ca8522ba93470843c74961b7d</td>\n",
       "      <td>You showed him all the best of you,\\nBut I'm a...</td>\n",
       "      <td>8d70930d09cd239c948408d1317d8659</td>\n",
       "    </tr>\n",
       "    <tr>\n",
       "      <th>...</th>\n",
       "      <td>...</td>\n",
       "      <td>...</td>\n",
       "      <td>...</td>\n",
       "    </tr>\n",
       "    <tr>\n",
       "      <th>11409</th>\n",
       "      <td>90522f12df92da5d585f8f6ec9bb34b5</td>\n",
       "      <td>All my little plans and schemes\\nLost like som...</td>\n",
       "      <td>b734225e54122798535b40666e6e361e</td>\n",
       "    </tr>\n",
       "    <tr>\n",
       "      <th>11410</th>\n",
       "      <td>b82bd468c888ae17d2e976c8cf3b9d4c</td>\n",
       "      <td>I will make my way\\nI'm trying to survive anot...</td>\n",
       "      <td>b3cbb82e4ef67e75b1e47054a681db86</td>\n",
       "    </tr>\n",
       "    <tr>\n",
       "      <th>11411</th>\n",
       "      <td>22bae9d3185254ea34072c692a2cd63d</td>\n",
       "      <td>Left a good job in the city\\nWorking for the m...</td>\n",
       "      <td>d5c149b59a800a6f9f61adda6d3e1b1d</td>\n",
       "    </tr>\n",
       "    <tr>\n",
       "      <th>11412</th>\n",
       "      <td>0979b4049635e1c0fc161573f75ab23a</td>\n",
       "      <td>Left a good job in the city\\nWorking for the m...</td>\n",
       "      <td>d5c149b59a800a6f9f61adda6d3e1b1d</td>\n",
       "    </tr>\n",
       "    <tr>\n",
       "      <th>11413</th>\n",
       "      <td>4c07f8d17222f821114790241f816431</td>\n",
       "      <td>Этой ночью чьё-то сердце от любви горит\\nВсё в...</td>\n",
       "      <td>c860754a50dac664d847bca85e6897f4</td>\n",
       "    </tr>\n",
       "  </tbody>\n",
       "</table>\n",
       "<p>11414 rows × 3 columns</p>\n",
       "</div>"
      ],
      "text/plain": [
       "                                lyricId  \\\n",
       "0      a951f9504e89759e9d23039b7b17ec14   \n",
       "1      0c749bc3f01eb8e6cf986fa14ccfc585   \n",
       "2      e2c8830fbc86e5964478243099eec23a   \n",
       "3      e2c8830fbc86e5964478243099eec23a   \n",
       "4      7624653ca8522ba93470843c74961b7d   \n",
       "...                                 ...   \n",
       "11409  90522f12df92da5d585f8f6ec9bb34b5   \n",
       "11410  b82bd468c888ae17d2e976c8cf3b9d4c   \n",
       "11411  22bae9d3185254ea34072c692a2cd63d   \n",
       "11412  0979b4049635e1c0fc161573f75ab23a   \n",
       "11413  4c07f8d17222f821114790241f816431   \n",
       "\n",
       "                                                    text  \\\n",
       "0      Живу сейчас обломами, обломками не той любви\\n...   \n",
       "1      Tell me your fable\\nA fable\\nTell me your fabl...   \n",
       "2      You're ashamed about all your fears and doubts...   \n",
       "3      You're ashamed about all your fears and doubts...   \n",
       "4      You showed him all the best of you,\\nBut I'm a...   \n",
       "...                                                  ...   \n",
       "11409  All my little plans and schemes\\nLost like som...   \n",
       "11410  I will make my way\\nI'm trying to survive anot...   \n",
       "11411  Left a good job in the city\\nWorking for the m...   \n",
       "11412  Left a good job in the city\\nWorking for the m...   \n",
       "11413  Этой ночью чьё-то сердце от любви горит\\nВсё в...   \n",
       "\n",
       "                               track_id  \n",
       "0      1c4b1230f937e4c548ff732523214dcd  \n",
       "1      0faea89b0d7d6235b5b74def72511bd8  \n",
       "2      9c6dc41d5ccd9968d07f055da5d8f741  \n",
       "3      bfd04a73e9cffdf0e282c92219a86ea1  \n",
       "4      8d70930d09cd239c948408d1317d8659  \n",
       "...                                 ...  \n",
       "11409  b734225e54122798535b40666e6e361e  \n",
       "11410  b3cbb82e4ef67e75b1e47054a681db86  \n",
       "11411  d5c149b59a800a6f9f61adda6d3e1b1d  \n",
       "11412  d5c149b59a800a6f9f61adda6d3e1b1d  \n",
       "11413  c860754a50dac664d847bca85e6897f4  \n",
       "\n",
       "[11414 rows x 3 columns]"
      ]
     },
     "execution_count": 14,
     "metadata": {},
     "output_type": "execute_result"
    }
   ],
   "source": [
    "text"
   ]
  },
  {
   "cell_type": "code",
   "execution_count": 15,
   "id": "3a5d4fce",
   "metadata": {},
   "outputs": [
    {
     "name": "stdout",
     "output_type": "stream",
     "text": [
      "<class 'pandas.core.frame.DataFrame'>\n",
      "RangeIndex: 11414 entries, 0 to 11413\n",
      "Data columns (total 3 columns):\n",
      " #   Column    Non-Null Count  Dtype \n",
      "---  ------    --------------  ----- \n",
      " 0   lyricId   11414 non-null  object\n",
      " 1   text      11414 non-null  object\n",
      " 2   track_id  11414 non-null  object\n",
      "dtypes: object(3)\n",
      "memory usage: 267.6+ KB\n"
     ]
    }
   ],
   "source": [
    "text.info()"
   ]
  },
  {
   "cell_type": "markdown",
   "id": "ebed01da",
   "metadata": {},
   "source": [
    "Датафрейм `text` содежрит 11414 строк, не имеет пропусков и все значения типа object. Проверим, имеются ли дубликаты:"
   ]
  },
  {
   "cell_type": "code",
   "execution_count": 16,
   "id": "ce5a90df",
   "metadata": {},
   "outputs": [
    {
     "data": {
      "text/plain": [
       "0"
      ]
     },
     "execution_count": 16,
     "metadata": {},
     "output_type": "execute_result"
    }
   ],
   "source": [
    "text.duplicated().sum()"
   ]
  },
  {
   "cell_type": "markdown",
   "id": "db0962e4",
   "metadata": {},
   "source": [
    "### Краткий вывод\n",
    "\n",
    "Датафрем `text` не содержит дубликатов и имеет 11414 уникальных значений."
   ]
  },
  {
   "cell_type": "markdown",
   "id": "b3eaa8c3",
   "metadata": {},
   "source": [
    "## Meta"
   ]
  },
  {
   "cell_type": "markdown",
   "id": "c3ddf4da",
   "metadata": {},
   "source": [
    "Датафрейм `meta` содержит следующие данные:\n",
    "\n",
    "- `track_id` - уникальный идентификатор трека;\n",
    "\n",
    "- `dttm` - первая дата появления информации о треке;\n",
    "\n",
    "- `title` - название трека;\n",
    "\n",
    "- `language` - язык исполнения;\n",
    "\n",
    "- `isrc` - международный уникальный идентификатор трека;\n",
    "\n",
    "- `genres` - жанры;\n",
    "\n",
    "- `duration` - длительность трека;"
   ]
  },
  {
   "cell_type": "code",
   "execution_count": 17,
   "id": "bf0e95a8",
   "metadata": {},
   "outputs": [
    {
     "data": {
      "text/html": [
       "<div>\n",
       "<style scoped>\n",
       "    .dataframe tbody tr th:only-of-type {\n",
       "        vertical-align: middle;\n",
       "    }\n",
       "\n",
       "    .dataframe tbody tr th {\n",
       "        vertical-align: top;\n",
       "    }\n",
       "\n",
       "    .dataframe thead th {\n",
       "        text-align: right;\n",
       "    }\n",
       "</style>\n",
       "<table border=\"1\" class=\"dataframe\">\n",
       "  <thead>\n",
       "    <tr style=\"text-align: right;\">\n",
       "      <th></th>\n",
       "      <th>track_id</th>\n",
       "      <th>dttm</th>\n",
       "      <th>title</th>\n",
       "      <th>language</th>\n",
       "      <th>isrc</th>\n",
       "      <th>genres</th>\n",
       "      <th>duration</th>\n",
       "    </tr>\n",
       "  </thead>\n",
       "  <tbody>\n",
       "    <tr>\n",
       "      <th>0</th>\n",
       "      <td>c3b9d6a354ca008aa4518329aaa21380</td>\n",
       "      <td>1.639688e+12</td>\n",
       "      <td>Happy New Year</td>\n",
       "      <td>EN</td>\n",
       "      <td>RUB422103970</td>\n",
       "      <td>[DANCE]</td>\n",
       "      <td>161120.0</td>\n",
       "    </tr>\n",
       "    <tr>\n",
       "      <th>1</th>\n",
       "      <td>c57e3d13bbbf5322584a7e92e6f1f7ff</td>\n",
       "      <td>1.637762e+12</td>\n",
       "      <td>Bad Habits</td>\n",
       "      <td>EN</td>\n",
       "      <td>QZN882178276</td>\n",
       "      <td>[ELECTRONICS]</td>\n",
       "      <td>362260.0</td>\n",
       "    </tr>\n",
       "    <tr>\n",
       "      <th>2</th>\n",
       "      <td>955f2aafe8717908c140bf122ba4172d</td>\n",
       "      <td>1.637768e+12</td>\n",
       "      <td>Por Esa Loca Vanidad</td>\n",
       "      <td>None</td>\n",
       "      <td>QZNJZ2122549</td>\n",
       "      <td>[FOLK, LATINFOLK]</td>\n",
       "      <td>260000.0</td>\n",
       "    </tr>\n",
       "    <tr>\n",
       "      <th>3</th>\n",
       "      <td>fae5a077c9956045955dde02143bd8ff</td>\n",
       "      <td>1.637768e+12</td>\n",
       "      <td>Mil Lagrimas</td>\n",
       "      <td>None</td>\n",
       "      <td>QZNJZ2166033</td>\n",
       "      <td>[FOLK, LATINFOLK]</td>\n",
       "      <td>190000.0</td>\n",
       "    </tr>\n",
       "    <tr>\n",
       "      <th>4</th>\n",
       "      <td>6bede082154d34fc18d9a6744bc95bf5</td>\n",
       "      <td>1.637768e+12</td>\n",
       "      <td>Sexo Humo y Alcohol</td>\n",
       "      <td>None</td>\n",
       "      <td>QZNJZ2122551</td>\n",
       "      <td>[FOLK, LATINFOLK]</td>\n",
       "      <td>203000.0</td>\n",
       "    </tr>\n",
       "    <tr>\n",
       "      <th>...</th>\n",
       "      <td>...</td>\n",
       "      <td>...</td>\n",
       "      <td>...</td>\n",
       "      <td>...</td>\n",
       "      <td>...</td>\n",
       "      <td>...</td>\n",
       "      <td>...</td>\n",
       "    </tr>\n",
       "    <tr>\n",
       "      <th>71764</th>\n",
       "      <td>4be93dea1715e54db86aaa7f7e9bfb10</td>\n",
       "      <td>1.560403e+12</td>\n",
       "      <td>Chanceuse</td>\n",
       "      <td>FR</td>\n",
       "      <td>CAISO1800023</td>\n",
       "      <td>[INDIE]</td>\n",
       "      <td>212690.0</td>\n",
       "    </tr>\n",
       "    <tr>\n",
       "      <th>71765</th>\n",
       "      <td>7cba0f30eaa8766d6c203eff2f3750a2</td>\n",
       "      <td>1.560433e+12</td>\n",
       "      <td>Quiero Que Vuelvas</td>\n",
       "      <td>None</td>\n",
       "      <td>ES71G1738868</td>\n",
       "      <td>[POP]</td>\n",
       "      <td>237540.0</td>\n",
       "    </tr>\n",
       "    <tr>\n",
       "      <th>71766</th>\n",
       "      <td>26b6aca1c6a02ad0e2a939164716657e</td>\n",
       "      <td>1.560448e+12</td>\n",
       "      <td>Vacation</td>\n",
       "      <td>EN</td>\n",
       "      <td>USA2B1511447</td>\n",
       "      <td>[ALTERNATIVE]</td>\n",
       "      <td>215210.0</td>\n",
       "    </tr>\n",
       "    <tr>\n",
       "      <th>71767</th>\n",
       "      <td>d904dda141238e6ad1b428bfbb21262d</td>\n",
       "      <td>1.560448e+12</td>\n",
       "      <td>Dance Hall Days</td>\n",
       "      <td>EN</td>\n",
       "      <td>USA2B1511448</td>\n",
       "      <td>[ALTERNATIVE]</td>\n",
       "      <td>251010.0</td>\n",
       "    </tr>\n",
       "    <tr>\n",
       "      <th>71768</th>\n",
       "      <td>5731fc0a34c663a0c0082c712df15266</td>\n",
       "      <td>1.625087e+12</td>\n",
       "      <td>17</td>\n",
       "      <td>RU</td>\n",
       "      <td>FR59R1921791</td>\n",
       "      <td>[POP, RUSPOP]</td>\n",
       "      <td>175640.0</td>\n",
       "    </tr>\n",
       "  </tbody>\n",
       "</table>\n",
       "<p>71769 rows × 7 columns</p>\n",
       "</div>"
      ],
      "text/plain": [
       "                               track_id          dttm                 title  \\\n",
       "0      c3b9d6a354ca008aa4518329aaa21380  1.639688e+12        Happy New Year   \n",
       "1      c57e3d13bbbf5322584a7e92e6f1f7ff  1.637762e+12            Bad Habits   \n",
       "2      955f2aafe8717908c140bf122ba4172d  1.637768e+12  Por Esa Loca Vanidad   \n",
       "3      fae5a077c9956045955dde02143bd8ff  1.637768e+12          Mil Lagrimas   \n",
       "4      6bede082154d34fc18d9a6744bc95bf5  1.637768e+12   Sexo Humo y Alcohol   \n",
       "...                                 ...           ...                   ...   \n",
       "71764  4be93dea1715e54db86aaa7f7e9bfb10  1.560403e+12             Chanceuse   \n",
       "71765  7cba0f30eaa8766d6c203eff2f3750a2  1.560433e+12    Quiero Que Vuelvas   \n",
       "71766  26b6aca1c6a02ad0e2a939164716657e  1.560448e+12              Vacation   \n",
       "71767  d904dda141238e6ad1b428bfbb21262d  1.560448e+12       Dance Hall Days   \n",
       "71768  5731fc0a34c663a0c0082c712df15266  1.625087e+12                    17   \n",
       "\n",
       "      language          isrc             genres  duration  \n",
       "0           EN  RUB422103970            [DANCE]  161120.0  \n",
       "1           EN  QZN882178276      [ELECTRONICS]  362260.0  \n",
       "2         None  QZNJZ2122549  [FOLK, LATINFOLK]  260000.0  \n",
       "3         None  QZNJZ2166033  [FOLK, LATINFOLK]  190000.0  \n",
       "4         None  QZNJZ2122551  [FOLK, LATINFOLK]  203000.0  \n",
       "...        ...           ...                ...       ...  \n",
       "71764       FR  CAISO1800023            [INDIE]  212690.0  \n",
       "71765     None  ES71G1738868              [POP]  237540.0  \n",
       "71766       EN  USA2B1511447      [ALTERNATIVE]  215210.0  \n",
       "71767       EN  USA2B1511448      [ALTERNATIVE]  251010.0  \n",
       "71768       RU  FR59R1921791      [POP, RUSPOP]  175640.0  \n",
       "\n",
       "[71769 rows x 7 columns]"
      ]
     },
     "execution_count": 17,
     "metadata": {},
     "output_type": "execute_result"
    }
   ],
   "source": [
    "meta"
   ]
  },
  {
   "cell_type": "code",
   "execution_count": 18,
   "id": "9b612bf5",
   "metadata": {},
   "outputs": [
    {
     "name": "stdout",
     "output_type": "stream",
     "text": [
      "<class 'pandas.core.frame.DataFrame'>\n",
      "RangeIndex: 71769 entries, 0 to 71768\n",
      "Data columns (total 7 columns):\n",
      " #   Column    Non-Null Count  Dtype  \n",
      "---  ------    --------------  -----  \n",
      " 0   track_id  71768 non-null  object \n",
      " 1   dttm      71768 non-null  float64\n",
      " 2   title     71768 non-null  object \n",
      " 3   language  21969 non-null  object \n",
      " 4   isrc      71455 non-null  object \n",
      " 5   genres    71768 non-null  object \n",
      " 6   duration  71768 non-null  float64\n",
      "dtypes: float64(2), object(5)\n",
      "memory usage: 3.8+ MB\n"
     ]
    }
   ],
   "source": [
    "meta.info()"
   ]
  },
  {
   "cell_type": "markdown",
   "id": "254c0525",
   "metadata": {},
   "source": [
    "Датафрейм содержит 71768 строк, сразу видно, что столбцы `language` и `isrc` имеют пропуски, также столбец даты `dttm` имеет нечитабельный формат данных типа UNIXTIME. "
   ]
  },
  {
   "cell_type": "code",
   "execution_count": 19,
   "id": "022385e9",
   "metadata": {},
   "outputs": [
    {
     "data": {
      "text/plain": [
       "track_id        1\n",
       "dttm            1\n",
       "title           1\n",
       "language    49800\n",
       "isrc          314\n",
       "genres          1\n",
       "duration        1\n",
       "dtype: int64"
      ]
     },
     "execution_count": 19,
     "metadata": {},
     "output_type": "execute_result"
    }
   ],
   "source": [
    "meta.isnull().sum()"
   ]
  },
  {
   "cell_type": "code",
   "execution_count": 20,
   "id": "b79fe00d",
   "metadata": {},
   "outputs": [],
   "source": [
    "meta.dropna(inplace=True,axis=0)\n",
    "meta['dttm'] = meta['dttm'].div(1000).apply(lambda x: datetime.fromtimestamp(x))"
   ]
  },
  {
   "cell_type": "markdown",
   "id": "3bfc24cd",
   "metadata": {},
   "source": [
    "Функция убирает все пропуски, в том числе и в столбцах `language` и `isrc`."
   ]
  },
  {
   "cell_type": "code",
   "execution_count": 21,
   "id": "6b0b9f89",
   "metadata": {},
   "outputs": [
    {
     "data": {
      "text/html": [
       "<div>\n",
       "<style scoped>\n",
       "    .dataframe tbody tr th:only-of-type {\n",
       "        vertical-align: middle;\n",
       "    }\n",
       "\n",
       "    .dataframe tbody tr th {\n",
       "        vertical-align: top;\n",
       "    }\n",
       "\n",
       "    .dataframe thead th {\n",
       "        text-align: right;\n",
       "    }\n",
       "</style>\n",
       "<table border=\"1\" class=\"dataframe\">\n",
       "  <thead>\n",
       "    <tr style=\"text-align: right;\">\n",
       "      <th></th>\n",
       "      <th>track_id</th>\n",
       "      <th>dttm</th>\n",
       "      <th>title</th>\n",
       "      <th>language</th>\n",
       "      <th>isrc</th>\n",
       "      <th>genres</th>\n",
       "      <th>duration</th>\n",
       "    </tr>\n",
       "  </thead>\n",
       "  <tbody>\n",
       "    <tr>\n",
       "      <th>0</th>\n",
       "      <td>c3b9d6a354ca008aa4518329aaa21380</td>\n",
       "      <td>2021-12-17 01:00:00</td>\n",
       "      <td>Happy New Year</td>\n",
       "      <td>EN</td>\n",
       "      <td>RUB422103970</td>\n",
       "      <td>[DANCE]</td>\n",
       "      <td>161120.0</td>\n",
       "    </tr>\n",
       "    <tr>\n",
       "      <th>1</th>\n",
       "      <td>c57e3d13bbbf5322584a7e92e6f1f7ff</td>\n",
       "      <td>2021-11-24 18:00:33</td>\n",
       "      <td>Bad Habits</td>\n",
       "      <td>EN</td>\n",
       "      <td>QZN882178276</td>\n",
       "      <td>[ELECTRONICS]</td>\n",
       "      <td>362260.0</td>\n",
       "    </tr>\n",
       "    <tr>\n",
       "      <th>18</th>\n",
       "      <td>55a4890cc667212a048ce81b4049d1ea</td>\n",
       "      <td>2021-11-24 20:59:05</td>\n",
       "      <td>Tacones Rojos</td>\n",
       "      <td>ES</td>\n",
       "      <td>GBKPL2174553</td>\n",
       "      <td>[POP, FOLK, LATINFOLK]</td>\n",
       "      <td>181230.0</td>\n",
       "    </tr>\n",
       "    <tr>\n",
       "      <th>25</th>\n",
       "      <td>94093810e71074bec5a6990c1c214165</td>\n",
       "      <td>2022-10-20 01:00:00</td>\n",
       "      <td>Humsafar</td>\n",
       "      <td>HI</td>\n",
       "      <td>GX3HH2123738</td>\n",
       "      <td>[FOLK]</td>\n",
       "      <td>153690.0</td>\n",
       "    </tr>\n",
       "    <tr>\n",
       "      <th>26</th>\n",
       "      <td>2b74d8dc05d365e51cf4ff2bcc9727f0</td>\n",
       "      <td>2021-12-10 01:00:00</td>\n",
       "      <td>Die Together</td>\n",
       "      <td>EN</td>\n",
       "      <td>QZS672179786</td>\n",
       "      <td>[DANCE]</td>\n",
       "      <td>177190.0</td>\n",
       "    </tr>\n",
       "    <tr>\n",
       "      <th>...</th>\n",
       "      <td>...</td>\n",
       "      <td>...</td>\n",
       "      <td>...</td>\n",
       "      <td>...</td>\n",
       "      <td>...</td>\n",
       "      <td>...</td>\n",
       "      <td>...</td>\n",
       "    </tr>\n",
       "    <tr>\n",
       "      <th>71762</th>\n",
       "      <td>495babc700c0c6b5b8549d49f163d3cb</td>\n",
       "      <td>2021-07-04 01:00:00</td>\n",
       "      <td>Stay With Me</td>\n",
       "      <td>EN</td>\n",
       "      <td>GBKPL1955058</td>\n",
       "      <td>[JAZZ, VOCALJAZZ]</td>\n",
       "      <td>152090.0</td>\n",
       "    </tr>\n",
       "    <tr>\n",
       "      <th>71764</th>\n",
       "      <td>4be93dea1715e54db86aaa7f7e9bfb10</td>\n",
       "      <td>2019-06-13 09:20:09</td>\n",
       "      <td>Chanceuse</td>\n",
       "      <td>FR</td>\n",
       "      <td>CAISO1800023</td>\n",
       "      <td>[INDIE]</td>\n",
       "      <td>212690.0</td>\n",
       "    </tr>\n",
       "    <tr>\n",
       "      <th>71766</th>\n",
       "      <td>26b6aca1c6a02ad0e2a939164716657e</td>\n",
       "      <td>2019-06-13 21:50:02</td>\n",
       "      <td>Vacation</td>\n",
       "      <td>EN</td>\n",
       "      <td>USA2B1511447</td>\n",
       "      <td>[ALTERNATIVE]</td>\n",
       "      <td>215210.0</td>\n",
       "    </tr>\n",
       "    <tr>\n",
       "      <th>71767</th>\n",
       "      <td>d904dda141238e6ad1b428bfbb21262d</td>\n",
       "      <td>2019-06-13 21:50:02</td>\n",
       "      <td>Dance Hall Days</td>\n",
       "      <td>EN</td>\n",
       "      <td>USA2B1511448</td>\n",
       "      <td>[ALTERNATIVE]</td>\n",
       "      <td>251010.0</td>\n",
       "    </tr>\n",
       "    <tr>\n",
       "      <th>71768</th>\n",
       "      <td>5731fc0a34c663a0c0082c712df15266</td>\n",
       "      <td>2021-07-01 01:00:00</td>\n",
       "      <td>17</td>\n",
       "      <td>RU</td>\n",
       "      <td>FR59R1921791</td>\n",
       "      <td>[POP, RUSPOP]</td>\n",
       "      <td>175640.0</td>\n",
       "    </tr>\n",
       "  </tbody>\n",
       "</table>\n",
       "<p>21964 rows × 7 columns</p>\n",
       "</div>"
      ],
      "text/plain": [
       "                               track_id                dttm            title  \\\n",
       "0      c3b9d6a354ca008aa4518329aaa21380 2021-12-17 01:00:00   Happy New Year   \n",
       "1      c57e3d13bbbf5322584a7e92e6f1f7ff 2021-11-24 18:00:33       Bad Habits   \n",
       "18     55a4890cc667212a048ce81b4049d1ea 2021-11-24 20:59:05    Tacones Rojos   \n",
       "25     94093810e71074bec5a6990c1c214165 2022-10-20 01:00:00         Humsafar   \n",
       "26     2b74d8dc05d365e51cf4ff2bcc9727f0 2021-12-10 01:00:00     Die Together   \n",
       "...                                 ...                 ...              ...   \n",
       "71762  495babc700c0c6b5b8549d49f163d3cb 2021-07-04 01:00:00     Stay With Me   \n",
       "71764  4be93dea1715e54db86aaa7f7e9bfb10 2019-06-13 09:20:09        Chanceuse   \n",
       "71766  26b6aca1c6a02ad0e2a939164716657e 2019-06-13 21:50:02         Vacation   \n",
       "71767  d904dda141238e6ad1b428bfbb21262d 2019-06-13 21:50:02  Dance Hall Days   \n",
       "71768  5731fc0a34c663a0c0082c712df15266 2021-07-01 01:00:00               17   \n",
       "\n",
       "      language          isrc                  genres  duration  \n",
       "0           EN  RUB422103970                 [DANCE]  161120.0  \n",
       "1           EN  QZN882178276           [ELECTRONICS]  362260.0  \n",
       "18          ES  GBKPL2174553  [POP, FOLK, LATINFOLK]  181230.0  \n",
       "25          HI  GX3HH2123738                  [FOLK]  153690.0  \n",
       "26          EN  QZS672179786                 [DANCE]  177190.0  \n",
       "...        ...           ...                     ...       ...  \n",
       "71762       EN  GBKPL1955058       [JAZZ, VOCALJAZZ]  152090.0  \n",
       "71764       FR  CAISO1800023                 [INDIE]  212690.0  \n",
       "71766       EN  USA2B1511447           [ALTERNATIVE]  215210.0  \n",
       "71767       EN  USA2B1511448           [ALTERNATIVE]  251010.0  \n",
       "71768       RU  FR59R1921791           [POP, RUSPOP]  175640.0  \n",
       "\n",
       "[21964 rows x 7 columns]"
      ]
     },
     "execution_count": 21,
     "metadata": {},
     "output_type": "execute_result"
    }
   ],
   "source": [
    "meta"
   ]
  },
  {
   "cell_type": "code",
   "execution_count": 22,
   "id": "e5d6a0ed",
   "metadata": {},
   "outputs": [
    {
     "name": "stdout",
     "output_type": "stream",
     "text": [
      "2009-08-10 21:32:06\n",
      "2023-10-18 01:00:00\n"
     ]
    }
   ],
   "source": [
    "print(meta['dttm'].min())\n",
    "print(meta['dttm'].max())"
   ]
  },
  {
   "cell_type": "markdown",
   "id": "2ba92110",
   "metadata": {},
   "source": [
    "Дату исправили. Посмотрим на распределение данных:"
   ]
  },
  {
   "cell_type": "code",
   "execution_count": 23,
   "id": "62528620",
   "metadata": {},
   "outputs": [
    {
     "data": {
      "text/plain": [
       "21964"
      ]
     },
     "execution_count": 23,
     "metadata": {},
     "output_type": "execute_result"
    }
   ],
   "source": [
    "meta['track_id'].nunique()"
   ]
  },
  {
   "cell_type": "markdown",
   "id": "95ecd008",
   "metadata": {},
   "source": [
    "Все значения `track_id` уникальны, что с названиями треков:"
   ]
  },
  {
   "cell_type": "code",
   "execution_count": 24,
   "id": "c21b24c1",
   "metadata": {},
   "outputs": [
    {
     "data": {
      "text/plain": [
       "title\n",
       "Smooth Criminal            53\n",
       "Wicked Game                45\n",
       "Smells Like Teen Spirit    35\n",
       "Toxic                      32\n",
       "Baby One More Time         28\n",
       "                           ..\n",
       "Quick Death in Texas        1\n",
       "Brain Stew                  1\n",
       "Carolina Drama              1\n",
       "Everything We Need          1\n",
       "17                          1\n",
       "Name: count, Length: 16288, dtype: int64"
      ]
     },
     "execution_count": 24,
     "metadata": {},
     "output_type": "execute_result"
    }
   ],
   "source": [
    "meta['title'].value_counts()"
   ]
  },
  {
   "cell_type": "markdown",
   "id": "66476586",
   "metadata": {},
   "source": [
    "В названиях имеются повторы, но если `track_id` уникальны, то вероятно тут сидят и каверы."
   ]
  },
  {
   "cell_type": "code",
   "execution_count": 25,
   "id": "6c83324b",
   "metadata": {},
   "outputs": [
    {
     "data": {
      "text/plain": [
       "language\n",
       "EN    15322\n",
       "ES     1747\n",
       "RU     1553\n",
       "IT      907\n",
       "HI      285\n",
       "DE      238\n",
       "ZH      212\n",
       "FR      210\n",
       "JA      174\n",
       "VI      162\n",
       "Name: count, dtype: int64"
      ]
     },
     "execution_count": 25,
     "metadata": {},
     "output_type": "execute_result"
    }
   ],
   "source": [
    "meta['language'].value_counts().head(10)"
   ]
  },
  {
   "cell_type": "code",
   "execution_count": 26,
   "id": "9cebc50f",
   "metadata": {},
   "outputs": [],
   "source": [
    "meta.loc[(meta['language'] != 'EN') & (meta['language'] != 'RU') &\n",
    "         (meta['language'] != 'ES') & (meta['language'] != 'IT') , 'language'] = 'Other'"
   ]
  },
  {
   "cell_type": "code",
   "execution_count": 27,
   "id": "4f229e44",
   "metadata": {},
   "outputs": [
    {
     "data": {
      "text/plain": [
       "Text(0.5, 1.0, 'Гистограмма распределения треков по языкам')"
      ]
     },
     "execution_count": 27,
     "metadata": {},
     "output_type": "execute_result"
    },
    {
     "data": {
      "image/png": "[encoded data removed]",
      "text/plain": [
       "<Figure size 600x600 with 1 Axes>"
      ]
     },
     "metadata": {},
     "output_type": "display_data"
    }
   ],
   "source": [
    "meta.groupby(['language'])['language'].value_counts().plot(kind='pie', subplots=True,figsize = (6,6))\n",
    "plt.title('Гистограмма распределения треков по языкам')"
   ]
  },
  {
   "cell_type": "markdown",
   "id": "804e27fb",
   "metadata": {},
   "source": [
    "Как видим, большую часть данных составляют англоязычные треки, далее идут испаноязычные и русскоязычные."
   ]
  },
  {
   "cell_type": "code",
   "execution_count": 28,
   "id": "338dd071",
   "metadata": {},
   "outputs": [
    {
     "data": {
      "text/plain": [
       "genres\n",
       "[POP]                                               5742\n",
       "[ROCK, ALLROCK]                                     2049\n",
       "[DANCE]                                             1357\n",
       "[FOLK, LATINFOLK]                                   1081\n",
       "[ELECTRONICS]                                       1070\n",
       "                                                    ... \n",
       "[SPIRITUAL, NEWAGE, ELECTRONICS]                       1\n",
       "[CLASSICAL, NEWAGE, ELECTRONICS, CLASSICALMUSIC]       1\n",
       "[REGGAE, SKA]                                          1\n",
       "[ROCK, ELECTRONICS, ALLROCK]                           1\n",
       "[ROCK, ALLROCK, FOLKGENRE]                             1\n",
       "Name: count, Length: 210, dtype: int64"
      ]
     },
     "execution_count": 28,
     "metadata": {},
     "output_type": "execute_result"
    }
   ],
   "source": [
    "meta['genres'].value_counts()"
   ]
  },
  {
   "cell_type": "markdown",
   "id": "d0b8be0c",
   "metadata": {},
   "source": [
    "Самым популярным жанром оказался `POP`, далее идет `ROCK` и `DANCE`. Причем имеются многожанровые треки, поэтому и разброс уникальных значений столь велик."
   ]
  },
  {
   "cell_type": "code",
   "execution_count": 29,
   "id": "2a5e2319",
   "metadata": {},
   "outputs": [
    {
     "data": {
      "text/plain": [
       "21933"
      ]
     },
     "execution_count": 29,
     "metadata": {},
     "output_type": "execute_result"
    }
   ],
   "source": [
    "meta['isrc'].nunique()"
   ]
  },
  {
   "cell_type": "markdown",
   "id": "bab93373",
   "metadata": {},
   "source": [
    "Повторы имеются и в столбце `isrc`"
   ]
  },
  {
   "cell_type": "code",
   "execution_count": 30,
   "id": "8f95da93",
   "metadata": {},
   "outputs": [
    {
     "data": {
      "text/plain": [
       "isrc\n",
       "QZGWX2002100    2\n",
       "GBAFQ0700594    2\n",
       "QZNC62100542    2\n",
       "QZGWW2040131    2\n",
       "USAT29901394    2\n",
       "               ..\n",
       "QZGWX2217144    1\n",
       "QZGWX2217143    1\n",
       "QZGWX2217142    1\n",
       "QZGWX2217141    1\n",
       "FR59R1921791    1\n",
       "Name: count, Length: 21933, dtype: int64"
      ]
     },
     "execution_count": 30,
     "metadata": {},
     "output_type": "execute_result"
    }
   ],
   "source": [
    "meta['isrc'].value_counts()"
   ]
  },
  {
   "cell_type": "markdown",
   "id": "63371aaf",
   "metadata": {},
   "source": [
    "Наглядно видны повторы. Если `isrc` - международный уникальный идентификатор трека, а `track_id` - уникальный идентификатор трека. Если у нас все значения `track_id` уникальны, но имеются повторы `isrc`, то значит в системе имеется опасное дублирование информации. "
   ]
  },
  {
   "cell_type": "markdown",
   "id": "ec90ca09",
   "metadata": {},
   "source": [
    "Столбец `duration` показывает длительноть треков:"
   ]
  },
  {
   "cell_type": "code",
   "execution_count": 31,
   "id": "f08dc61b",
   "metadata": {},
   "outputs": [
    {
     "name": "stdout",
     "output_type": "stream",
     "text": [
      "Медианная длительность трека составляет 202320.0\n"
     ]
    }
   ],
   "source": [
    "print(f\"Медианная длительность трека составляет\", meta['duration'].median())"
   ]
  },
  {
   "cell_type": "code",
   "execution_count": 32,
   "id": "7ffe51ed",
   "metadata": {},
   "outputs": [
    {
     "name": "stdout",
     "output_type": "stream",
     "text": [
      "Средняя длительность трека составляет 204612.5840921508\n"
     ]
    }
   ],
   "source": [
    "print(f\"Средняя длительность трека составляет\", meta['duration'].mean())"
   ]
  },
  {
   "cell_type": "markdown",
   "id": "f6230a75",
   "metadata": {},
   "source": [
    "## Разработка решения для поиска каверов. \n",
    "\n",
    "Рассмотрим способы нахождения каверов. Сразу заметим, что в исходной информации, даже обладая разными базами не всегда удается установить оригинальный трек. Более того, лишь ISRC позволяет произвести более менее однозначное соответствие трека, т.к.:\n",
    " - имена песни могут быть одинаковыми\n",
    " - дата добавления трека в базу Яндекса не является уникальной\n",
    " - длительность трека,язык и жанр являются косвенным методом определения трека\n",
    " - текст песни приведен лишь для малой части песен. \n",
    " \n",
    " Треки, где отсутствует ISRC, для задачи поиска каверов не подходят, т.к. по исходной информации они могут быть как кавером так и оригиналом. "
   ]
  },
  {
   "cell_type": "markdown",
   "id": "719611eb",
   "metadata": {},
   "source": [
    "### Путь первый - через сравнение текстов.\n",
    "\n",
    "Показатель сходства текстов является важным признаком сходства песен. При очень высокой степени сходства можно утверждать, что  перед нами связанные песни. С некоторой вероятностью самая первая песня является оригиналом. Большой проблемой является то, что не для каждой песни имеются слова, даже если использовать внешние источники информации. С развитием технологий появятся нейросети, которые смогут составлять автоматически тексты к песне, что даст большое приемущество этому методу. На данный момент этот вариант сложно реализуем и не покрывает песни без слов. \n",
    "\n",
    "Вторая проблема - проклятие размерности. Имея несколько миллионов треков с закодированными через эмбендинги текстами получаются огромные разреженные матрицы. Для классификации требуется вычисление расстояний(косинусного, левенштейна или другого) между песнями.  Такой процесс возможно производить в фоне, создавая списки каверов к родительскому оригиналу, однако требует предварительного скачивания большой базы текстов, применения токенизаторов для разных языков.\n",
    "\n",
    "Несколько упрощенной моделью будет создание из текста каждой песни списка 10...15 самых повторяющихся слов длиной не менее 4 символов. Связанные песни можно определять или прямым сравнением или расстоянием Левенштейна. Это позволит иметь быструю и легковесную модель, инвариантную к языкам. Ввиду слабой базы текстов нам этот вариант не подходит."
   ]
  },
  {
   "cell_type": "markdown",
   "id": "3000a53b",
   "metadata": {},
   "source": [
    "### Путь второй - через языковые модели. \n",
    "В последнее время языковые модели могут отвечать на вопросы в требуемом формате, что возможно использовать для ответа на вопрос об оригинальном исполнителе песни. К сожалению проведенное тестирование на примере chatGPT показало, что модель выдает уверенно неправильные ответы. Однако вероятность правильного ответа не равна нулю. Модель вполне можно использовать для выяснения песни-оригинала для кавера. Пример простого запроса:\n",
    "\n",
    "*Кто написал песню нас не догонят в формате \"исполнитель:песня:год\"*\n",
    "\n",
    "ответ:\n",
    "\n",
    "*Исполнитель: t.A.T.u.*\n",
    "*Песня: Нас не догонят*\n",
    "*Год выпуска: 2001*\n",
    "\n",
    "С помощью регулярного выражения можно выбрать нужную информацию без труда. "
   ]
  },
  {
   "cell_type": "markdown",
   "id": "4b32f227",
   "metadata": {},
   "source": [
    "### Путь третий - через запросы к информационным сайтам.\n",
    "Имеется несколько баз, предоставляющих информацию о выпущенных песнях. Зачастую каверы имеют одинаковое название с оригиналом. Получив список песен можно найти оригинал как первую песню из найденного. Это хороший метод, если название песни не менялось и база более менее полная. Среди проблем можно назвать трудоемкость и неоднородность информации. Необходимо бороться с исключением похожих названий. "
   ]
  },
  {
   "cell_type": "markdown",
   "id": "52cdf1e2",
   "metadata": {},
   "source": [
    "### Путь четвертый - через специализированные сайты. \n",
    "Ряд сайтов предоставляют сервис, где перечислены оригинальные песни и их каверы. Плюсом такого решения является высокая точность предсказания, т.к. база корректируется и обновляется сообществом. Например [secondhandsongs](http://secondhandsongs.com) обеспечивает такой функционал и предоставляет API. "
   ]
  },
  {
   "cell_type": "markdown",
   "id": "f98d03d3",
   "metadata": {},
   "source": [
    "Каждый из этих методов имеет плюсы и минусы. Вполне возможно использовать все эти методы вместе, получив ансамбль предсказаний, где с некоторым весом брать предсказания каждого метода. При этом производительность конечно пострадает, однако это допустимо для работы в фоне.  "
   ]
  },
  {
   "cell_type": "markdown",
   "id": "61ff841e",
   "metadata": {},
   "source": [
    "# Первая модель. \n",
    "Реализация модели четвертым путем показалась наиболее рациональным, т.к. этот метод обеспечивает неплохую точность, умеренную скорость и среднюю сложность реализации. \n",
    "\n",
    "В качестве источника выбор пал на сайт [secondhandsongs](http://secondhandsongs.com). Сервис представляет собой базу сообщества, которое собирает информацию про каверы и их оригиналы. Большим плюсом является формат, в котором выдается результат: cоставляется список каверов, выдается id оригинальной песни. Недостатком сервиса является то, что он не поддерживает поиск по ISRC, поэтому однозначно установить правильность найденного результата нельзя. Вместе с тем такую оговорку следуюет добавлять почти ко всем вариантам, т.к.ISCR появился только в середине 80-х, а многие песни происходят из более далеких времен. Название исполнителя и альтернативные названия песни получаем через БД Deezer и БД MusicBrainz. Для работы используется API, который работает следующим образом: посылается ссылка-запрос, а сайт(если запрос верный) в ответ присылает json-файл.\n",
    "\n",
    "Результаты запроса аккумулируются в два списка - список названий песен и список названий исполнителя. Это необходимо для того, чтобы найти разные названия одной и той же песни и исполнителя."
   ]
  },
  {
   "cell_type": "code",
   "execution_count": 33,
   "id": "a2f9942e",
   "metadata": {},
   "outputs": [],
   "source": [
    "def find_info_by_isrc(isrc, track = None):\n",
    "    \"\"\"\n",
    "    Функция делает запрос на сайт musicbrainz и deezer для поиска\n",
    "    названия исполнителя и названия песни по ISCR. Т.к. песня может \n",
    "    по-разному называться в разных базах. Функция возвращает список \n",
    "    как может называться исполнитель и песня.\n",
    "    \"\"\"\n",
    "    # создаем списки для сбора вариаций названий песни и исполнителя\n",
    "    artist = []\n",
    "    track_similar = [track]\n",
    "    print('Делаем запрос в Deezer и MusicBrainz на поиск песни и названия исполнителя')\n",
    "    # делаем запрос на Deezer и получаем словарь результатов\n",
    "    dzr_res = requests.get('https://api.deezer.com/2.0/track/isrc:'+isrc).json()\n",
    "    if 'error' not in dzr_res:\n",
    "        artist.append( dzr_res.get(\"artist\").get(\"name\") )\n",
    "        track_similar.append( dzr_res.get(\"title_short\") )\n",
    "    \n",
    "    # делаем запрос на Musicbrainz и получаем json\n",
    "    m.set_useragent(\"custom_app\", \"0.01\", \"sidordima@gmail.com\")\n",
    "    \n",
    "    try:\n",
    "        mb_res = m.get_recordings_by_isrc(isrc = isrc)\n",
    "    except:\n",
    "        mb_res = None\n",
    "\n",
    "    # если ответ ненулевой, то выцепляем данные\n",
    "    # в глубоких словарях поможет библиотека pydash\n",
    "    if mb_res!=None:\n",
    "        mb_artist = pydash.get(mb_res, \"isrc.recording-list.0.artist-credit.0.artist.name\")\n",
    "        mb_track = pydash.get(mb_res, \"isrc.recording-list.0.title\")\n",
    "        artist.append(mb_artist)\n",
    "        track_similar.append(mb_track)\n",
    "\n",
    "    # очищаем списки от повторов и None\n",
    "    artist = list(filter(None, artist))\n",
    "    artist = list(OrderedDict.fromkeys(artist)) \n",
    "    track_similar = list(filter(None, track_similar))\n",
    "    track_similar = list(OrderedDict.fromkeys(track_similar)) \n",
    "    # возвращаем варианты названия песни и артиста \n",
    "    return artist,track_similar"
   ]
  },
  {
   "cell_type": "markdown",
   "id": "44f81fab",
   "metadata": {},
   "source": [
    "После получения названий песни и артиста ищем эту песню на secondhandsong(далее SHS). Такой поиск - задача нетривиальная. Сначала ищется песня по названию, если песня одна - скорее всего это искомая песня. Если песен много, то ищется дополнительно совпадающее название исполнителя. Если ничего не нашлось, то песня ищется по другому названию. И так до перебора всех вариантов. Ввиду ограничения в 10-20 запросов в минуту для бесплатного получения информации поиск не самый быстрый.  "
   ]
  },
  {
   "cell_type": "code",
   "execution_count": 34,
   "id": "b0450871",
   "metadata": {},
   "outputs": [],
   "source": [
    "def secondhand_find_song(list_track = None,list_artist = None):\n",
    "    \"\"\"\n",
    "    Запрашиваем результат с сайта secondhand. Для этого ищем id песни запросами \n",
    "    из разных названий одной и тоже песни или автора. Возвращаем id с SHS\n",
    "    \"\"\"\n",
    "    # добавим вариант поиска без автора с помощью вставки None в список исполнителей\n",
    "    list_artist.insert(0,None)\n",
    "    # активируем режим поиска и обнуляем переменные\n",
    "    search = True\n",
    "    i, k = 0, 0\n",
    "    while search:\n",
    "        \"\"\"\n",
    "        Делаем запрос для получения id. \n",
    "        Если one_result=True-значит нашлась только одна песня, это идеальный вариант,\n",
    "        можно выходить из поиска. Если one_result=False-значит нашлось много песен, \n",
    "        требуется уточнение исполнителя. Если is_shs равно None, то пытаемся другое\n",
    "        название этой же песни найти. \n",
    "        \"\"\"\n",
    "        print('Идет поиск трека:', list_track[i],\", исполнитель: \",list_artist[k])\n",
    "        id_shs, one_result = SHS_get_id(song=list_track[i], artist=list_artist[k])\n",
    "        print(\"Получили такой ids\", id_shs, 'and' ,'вариант один',one_result)\n",
    "        if id_shs != None and one_result==True:\n",
    "            search = False\n",
    "            \n",
    "        elif id_shs != None and one_result==False:\n",
    "            # если много результатов, то меняем название исполнителя с None \n",
    "            k += 1\n",
    "            # если много одинаковых песен с разными исполнителями\n",
    "            if k>(len(list_artist)-1):\n",
    "                return id_shs\n",
    "        elif id_shs == None:\n",
    "            # если не нашли песню, то ищем по другому названию\n",
    "            if i<(len(list_track)-1):\n",
    "                i += 1\n",
    "                k = 0\n",
    "            else:\n",
    "                return None\n",
    "        else:\n",
    "            search = False\n",
    "            return id_shs\n",
    "        \n",
    "        time.sleep(6)\n",
    "        \n",
    "    return id_shs\n",
    "\n",
    "def SHS_get_id(song=None, artist=None):\n",
    "    \"\"\"\n",
    "    Функция делает запрос по названию песни и/или названию исполнителя.\n",
    "    В ответ получаем результаты поискового запроса\n",
    "    Извлекаем id первой песни с json-ответа, если он есть. Если нет, то None.\n",
    "    Если результат один, то вторая переменная принимает значение True\n",
    "    Если результатов поиска 2 и более, то вторая переменная False\n",
    "    \"\"\"\n",
    "    # делаем запрос с параметрами payload\n",
    "    payload = {'title': song, 'performer': artist, 'format': 'json'}\n",
    "    response = requests.get('https://secondhandsongs.com/search/performance', params=payload)\n",
    "    \n",
    "    # если есть коннект, то получаем данные\n",
    "    if response.status_code == 200:\n",
    "        # Получаем данные из ответа (JSON-данные)\n",
    "        result = response.json()\n",
    "    \n",
    "    # Используем регулярное выражение для извлечения строки из первого результата \n",
    "    # id это число после последнего '/'\n",
    "    if result.get('totalResults') >= 1:\n",
    "        #берем ссылку на исполнителя \n",
    "        uri = result['resultPage'][0]['uri']\n",
    "        # вытягиваем ид с помощью регулярного выражения\n",
    "        match = re.search(r\"\\d+(?=\\/?$)\", uri )\n",
    "        if match:\n",
    "            result_id = match.group(0)\n",
    "        else:\n",
    "            print('Не получилось извлечь id')\n",
    "    else:\n",
    "        return None, True\n",
    "    \n",
    "    if result.get('totalResults')==1:\n",
    "        return result_id, True\n",
    "    else:\n",
    "        return result_id, False"
   ]
  },
  {
   "cell_type": "markdown",
   "id": "24ac4c0c",
   "metadata": {},
   "source": [
    "Если на сайте secondhand найдена песня, то можем вывести информацию о песне. "
   ]
  },
  {
   "cell_type": "code",
   "execution_count": 42,
   "id": "fb0d810b",
   "metadata": {},
   "outputs": [],
   "source": [
    "def SHS_print_info(id=None):\n",
    "    \"\"\"\n",
    "    Функция делает запрос по id песни на secondhand.\n",
    "    Через спец библиотеку получаем данные, где указано оригинал или нет, список id каверов\n",
    "    \"\"\"\n",
    "    time.sleep(3)\n",
    "    clear_output()\n",
    "    \n",
    "    # инициализируем класс без спец ключа\n",
    "    shs_api = Api(api_key=None)\n",
    "    # делаем запрос по id perfomance и получаем ответ\n",
    "    p = shs_api.get_performance(id)\n",
    "    \n",
    "    # выводится полная инфа\n",
    "    if p.is_original:\n",
    "        print(\"Это оригинал песни\")\n",
    "        print(\"Название песни:\", p.title)\n",
    "        print(\"Название исполнителя:\",p.performer_name)\n",
    "        print(\"ИД оригинала песни:\", p.originals)\n",
    "        print(\"Каверы на эту песню:\", p.cover_ids)\n",
    "        print(\"Ссылка на secondhand:\", p.uri)\n",
    "    else:\n",
    "        print(\"Это кавер-версия песни\")\n",
    "        print(\"Название песни:\", p.title)\n",
    "        print(\"Название исполнителя:\",p.performer_name)\n",
    "        print(\"ИД оригинала песни:\", p.originals)\n",
    "        print(\"Ссылка на secondhand:\", p.uri)\n",
    "        \n",
    "        covers = shs_api.get_performance(p.originals[0])  \n",
    "        print(\"Найдены каверы на эту песню:\", covers.cover_ids)\n",
    "        \n",
    "    return None"
   ]
  },
  {
   "cell_type": "markdown",
   "id": "393ce5af",
   "metadata": {},
   "source": [
    "Весь путь 4 метода через secondhand описывается этой функцией. "
   ]
  },
  {
   "cell_type": "code",
   "execution_count": 43,
   "id": "532f0605",
   "metadata": {},
   "outputs": [],
   "source": [
    "def secondhand_way(input_isrc = None, input_track = None):\n",
    "    performer, track_names = find_info_by_isrc(isrc=input_isrc, track=input_track)\n",
    "    print(\"Исполнители: \",performer)\n",
    "    print(\"Названия треков: \", track_names)\n",
    "    id_song = secondhand_find_song(list_track = track_names,list_artist = performer)\n",
    "    #clear_output()\n",
    "    if id_song!=None :\n",
    "        SHS_print_info(id_song)\n",
    "    else:\n",
    "        clear_output()\n",
    "        print('К сожалению в secondhand нет информации о песне')"
   ]
  },
  {
   "cell_type": "code",
   "execution_count": 44,
   "id": "51887d9f",
   "metadata": {},
   "outputs": [
    {
     "name": "stdout",
     "output_type": "stream",
     "text": [
      "Это кавер-версия песни\n",
      "Название песни: Blackbird\n",
      "Название исполнителя: Brad Mehldau\n",
      "ИД оригинала песни: ['1983']\n",
      "Ссылка на secondhand: https://secondhandsongs.com/performance/2022\n",
      "Найдены каверы на эту песню: ['309082', '317181', '318431', '321282', '326238', '326193', '326490', '327649', '329980', '335941', '336150', '338339', '346611', '346681', '352250', '373043', '370724', '7466', '381413', '381509', '381655', '381722', '381750', '284576', '286208', '287312', '287374', '288385', '289079', '296334', '296390', '298375', '301728', '141963', '2000', '1984', '126046', '126513', '2034', '2015', '130223', '1995', '137890', '218681', '138927', '140942', '142908', '143552', '146080', '146160', '250071', '275847', '24812', '269462', '242040', '265362', '278290', '259918', '245757', '2010', '1999', '1998', '2018', '22806', '271752', '2032', '2026', '2014', '1990', '2605', '1997', '33015', '39425', '2056', '1994', '42694', '1996', '2048', '1985', '2028', '2025', '2033', '2051', '2021', '2049', '2030', '2012', '1993', '2007', '2036', '2020', '2039', '1988', '2001', '2005', '1991', '2041', '2045', '2016', '2008', '2013', '2003', '2011', '2042', '11584', '2052', '2022', '2053', '1989', '2035', '2023', '2040', '2055', '34506', '2024', '40157', '2019', '2004', '2047', '2006', '1986', '2029', '2017', '48840', '85735', '266556', '274733', '66322', '70791', '73325', '2037', '2002', '1987', '2043', '2044', '2031', '2046', '61136', '97961', '230378', '103909', '104838', '215069', '116085', '38829', '23518', '116792', '120817', '120923', '121125', '121684', '1992', '168613', '168788', '178991', '179611', '193686', '201856', '206298', '207118', '207516', '210102', '2054', '386051', '386133', '387045', '388099', '388837', '393516', '395818', '398285', '400671', '403723', '405119', '405266', '408781', '411937', '411968', '1442403', '419245', '421818', '422285', '426068', '437431', '438732', '441365', '442770', '443567', '449508', '454140', '460070', '462735', '463412', '464772', '465199', '467887', '468147', '468551', '469022', '474437', '477146', '479051', '479902', '483845', '484185', '486138', '492099', '503299', '504102', '506034', '507816', '507891', '508412', '510017', '517897', '518484', '519547', '520841', '521793', '522235', '523301', '527820', '533313', '534782', '545076', '547205', '551282', '552524', '554424', '555498', '556843', '558618', '561811', '567343', '569520', '573258', '579482', '579787', '580212', '589343', '589752', '594465', '596812', '597981', '600166', '605525', '609845', '610582', '613769', '613965', '614525', '616679', '623076', '625830', '626667', '627267', '633178', '637493', '641474', '641669', '642169', '642832', '644430', '647969', '654290', '659103', '661122', '661751', '662719', '663369', '670085', '675419', '677367', '677412', '681698', '692222', '695694', '696957', '697608', '700593', '702992', '709906', '720627', '735978', '736249', '741087', '742681', '742832', '750738', '751387', '751770', '757133', '757496', '758356', '759841', '762631', '763025', '765314', '769257', '774731', '774876', '776724', '777106', '777133', '778533', '780867', '783101', '784797', '787759', '787953', '788831', '793207', '794929', '797785', '798531', '798719', '802869', '805533', '805963', '806575', '809903', '820043', '820254', '820302', '825348', '826951', '827658', '835532', '836128', '839529', '839559', '842419', '843951', '844749', '848796', '850640', '855009', '855759', '857573', '858937', '861156', '862029', '864192', '867877', '868010', '869898', '877943', '878403', '880588', '881067', '883695', '885311', '885992', '886685', '1010249', '889343', '1048718', '898014', '901604', '902562', '903884', '1012015', '911912', '1037387', '1021126', '1027799', '924258', '924935', '1048848', '1032618', '930386', '1053137', '946766', '1048361', '953251', '953631', '954845', '955008', '1043203', '1021418', '1025723', '1014750', '1049080', '965856', '966123', '973992', '979702', '1047905', '980782', '985425', '1054159', '989064', '1042088', '995013', '1018444', '998936', '1056142', '1056522', '1058350', '1058721', '1069348', '1074264', '1080608', '1081440', '1085774', '1088228', '1095077', '1099150', '1101335', '1102927', '1104834', '1105294', '1115793', '1118427', '1124410', '1124439', '1126362', '1127454', '1130451', '1130825', '1132869', '1133543', '1134384', '1140393', '1146534', '1148089', '1149571', '1150881', '1154451', '1154723', '1157431', '1157609', '1157827', '1168040', '1170342', '1171077', '1179502', '1182394', '1184682', '1185855', '1188635', '1190437', '1191381', '1202585', '1209528', '1212178', '1212776', '1215554', '1217731', '1224375', '1230704', '1231633', '1233063', '1236193', '1236292', '1238513', '1238794', '1240141', '1245015', '1247414', '1247532', '1249864', '1250433', '1253656', '1259095', '1261381', '1266017', '1270539', '1275094', '1278029', '1279434', '1281833', '1282309', '1282324', '1296864', '1299068', '1447643', '1303516', '1310489', '1315385', '1318659', '1319522', '1322569', '1322861', '1323187', '1323973', '1324203', '1327669', '1330987', '1331242', '1333027', '1334063', '1339874', '1345043', '1349371', '1350132', '1353814', '1354635', '1355239', '1460588', '1358117', '1360729', '1362741', '1366561', '1367060', '1372026', '1377663', '1377978', '1467688', '1380499', '1381715', '1383595', '1393761', '1395751', '1398021', '1462411', '1409284', '1414224', '1414841', '1421900', '1428107', '1428711', '1429194', '1430170', '1430178', '1457007', '1440115', '1468418', '1468995', '1469962', '1476871', '1477300', '1478596', '1479277', '1481472', '1482890', '1484347', '1487721', '1487840', '1489459', '1494323']\n"
     ]
    }
   ],
   "source": [
    "# два примера работы функции\n",
    "secondhand_way(input_isrc=\"RUB861900320\",input_track='в городе где нет метро')\n",
    "secondhand_way(input_isrc=\"USWB19600698\",input_track='Blackbird')\n"
   ]
  },
  {
   "cell_type": "code",
   "execution_count": null,
   "id": "8935c710",
   "metadata": {},
   "outputs": [],
   "source": []
  }
 ],
 "metadata": {
  "kernelspec": {
   "display_name": "Python 3 (ipykernel)",
   "language": "python",
   "name": "python3"
  },
  "language_info": {
   "codemirror_mode": {
    "name": "ipython",
    "version": 3
   },
   "file_extension": ".py",
   "mimetype": "text/x-python",
   "name": "python",
   "nbconvert_exporter": "python",
   "pygments_lexer": "ipython3",
   "version": "3.11.5"
  }
 },
 "nbformat": 4,
 "nbformat_minor": 5
}
