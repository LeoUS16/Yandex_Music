{
 "cells": [
  {
   "cell_type": "code",
   "execution_count": 155,
   "metadata": {},
   "outputs": [],
   "source": [
    "import pandas as pd\n",
    "import numpy as np\n",
    "import json\n",
    "import requests\n",
    "import re\n",
    "import pydash\n",
    "import time\n",
    "\n",
    "\n",
    "from MusicMetaLinker.linking import linking\n",
    "from secondhandsongs import Api\n",
    "from collections import OrderedDict\n",
    "from IPython.display import clear_output"
   ]
  },
  {
   "cell_type": "markdown",
   "metadata": {},
   "source": [
    "\n",
    "Для разнообразия плейлиста пользователя некоторый интерес представляет добавление в список проигрывания разнообразных исполнений песен, т.н. называемых каверов. Их отличительной особенностью является значительное совпадение текстов песни, но наложенных на видоизмененную музыку. Для поиска оригинала песни или поиска каверов на песню требуется предоставить решение. Исходными данными выступают некоторые метаданные песни и разметка кавер/не кавер. Априорно мы утверждаем, что оригинальная песня - это песня, появившаяся раньше всех. \n",
    "Следует отметить, что для создания плейлиста требуется время не более секунды, иначе впечатление от качества работы сервиса будет испорчено. Ввиду большого количества пользователей нагрузка на инфраструктуру должна быть по возможности минимальной. \n",
    "Поиск через сравнение текстов.\n",
    "Показатель сходства текстов является важным признаком сходства песен. При очень высокой степени сходства текстов можно утверждать, что  перед нами связанные песни. С некоторой вероятностью самая первая песня является оригиналом. Не для каждой песни имеются слова песни. С развитием технологий появятся нейросети, которые смогут составлять автоматически тексты к песне.  На данный момент этот вариант сложно реализуем. \n",
    "Вторая проблема - проклятие размерности. Имея несколько миллионов треков с закодированными через эмбендинги текстами получаются огромные разреженные матрицы. Для подбора классификации требуется вычисление расстояний(косинусного, левенштейна или другого) между песнями.  Такой процесс возможно производить в фоне, создавая списки каверов к родительскому оригиналу, однако требует предварительного скачивания большой базы текстов, применения токенизаторов для разных языков.\n",
    "Несколько упрощенной моделью будет создание из текста каждой песни списка 5...15 самых повторяющихся слов длиной более 4 символов. Связанные песни можно определять или прямым сравнением или расстоянием Левенштейна. Это позволит иметь быструю и легковесную модель, инвариантную к языкам. \n",
    "Поиск через запросы к информационным сайтам.\n",
    "Имеется несколько баз, предоставляющих информацию об выпущенных песнях. Зачастую каверы имеют одинаковое название с оригиналом. Получив список песен можно найти оригинал как первую песню из найденного. Это хороший метод, если название песни не менялось. \n",
    "Поиск через специализированные сайты. \n",
    "Ряд сайтов предоставляют сервис, где перечислены оригинальные песни и их каверы. Плюсом такого решения является высокая точность предсказания, т.к. база корректируется и обновляется сообществом. \n",
    "Поиск через чат-гпт. \n",
    "В последнее время языковые модели могут отвечать на вопросы, что возможно использовать для ответа на вопрос об оригинальном исполнителе песни. К сожалению проведенное \n",
    "Каждый из этих методов имеет плюсы и минусы. Вполне возможно использовать все эти методы вместе, получив ансамбль предсказаний, но потеряв в производительности. \n",
    "   \n"
   ]
  },
  {
   "cell_type": "markdown",
   "metadata": {},
   "source": [
    "# Первый путь - через secondhandsongs\n",
    "  \n",
    "        Сайт secondhand представляет собой базу сообщества, которое собирает информацию про каверы и их оригиналы. Большим плюсом является формат, в котором выдается результат: cоставляется список каверов, выдается id оригинальной песни. Недостатком сервиса является то, что он не поддерживает поиск по ISRC, поэтому однозначно установить правильность найденного результата нельзя. Вместе с тем такую оговорку следуюет добавлять почти ко всем вариантам, т.к.ISCR появился только в середине 80-х, а многие песни происходят из более далеких времен. Название исполнителя и альтернативные названия песни получаем через БД Deezer и БД MusicBrainz. Для работы используется API, который работает следующим образом: посылается ссылка-запрос, а сайт(если запрос верный) в ответ присылает json-файл.\n",
    "        Результаты запроса аккумулируются в два списка - список названий песен и список названий исполнителя. Это необходимо для того, чтобы найти разные названия одной и той же песни или исполнителя. "
   ]
  },
  {
   "cell_type": "code",
   "execution_count": 163,
   "metadata": {},
   "outputs": [],
   "source": [
    "def find_info_by_isrc(isrc, track = None):\n",
    "    \"\"\"\n",
    "    Функция делает запрос на сайт musicbrainz и deezer для поиска\n",
    "    названия исполнителя и названия песни по ISCR. Т.к. песня может \n",
    "    по-разному называться в разных базах. Функция возвращает список \n",
    "    как может называться исполнитель и песня.\n",
    "    \"\"\"\n",
    "    # создаем списки для сбора вариаций названий песни и исполнителя\n",
    "    artist = []\n",
    "    track_similar = [track]\n",
    "    print('Делаем запрос в Deezer и MusicBrainz на поиск песни и названия исполнителя')\n",
    "    # делаем запрос на Deezer и получаем словарь результатов\n",
    "    dzr_res = requests.get('https://api.deezer.com/2.0/track/isrc:'+isrc).json()\n",
    "    if 'error' not in dzr_res:\n",
    "        artist.append( dzr_res.get(\"artist\").get(\"name\") )\n",
    "        track_similar.append( dzr_res.get(\"title_short\") )\n",
    "    \n",
    "    # делаем запрос на Musicbrainz и получаем json\n",
    "    musicbrain = linking.MusicBrainzAlign(isrc = isrc)\n",
    "    mb_res = musicbrain._search_by_isrc()\n",
    "\n",
    "    # если ответ ненулевой, то выцепляем данные\n",
    "    # в глубоких словарях поможет библиотека pydash\n",
    "    if mb_res!=None:\n",
    "        mb_artist = pydash.get(mb_res, \"isrc.recording-list.0.artist-credit.0.artist.name\")\n",
    "        mb_track = pydash.get(mb_res, \"isrc.recording-list.0.title\")\n",
    "        artist.append(mb_artist)\n",
    "        track_similar.append(mb_track)\n",
    "\n",
    "    # очищаем списки от повторов и None\n",
    "    artist = list(filter(None, artist))\n",
    "    artist = list(OrderedDict.fromkeys(artist)) \n",
    "    track_similar = list(filter(None, track_similar))\n",
    "    track_similar = list(OrderedDict.fromkeys(track_similar)) \n",
    "    # возвращаем варианты названия песни и артиста \n",
    "    return artist,track_similar\n"
   ]
  },
  {
   "cell_type": "markdown",
   "metadata": {},
   "source": [
    "После получения названий песни и артиста ищем эту песню на secondhandsong(далее SHS). Такой поиск - задача нетривиальная. Сначала ищется песня по названию, если песня одна - скорее всего это искомая песня. Если песен много, то ищется дополнительно совпадающее название исполнителя. Если ничего не нашлось, то песня ищется по другому названию. И так до перебора всех вариантов. Ввиду ограничения в 10 запросов для бесплатного получения информации поиск не самый быстрый. "
   ]
  },
  {
   "cell_type": "code",
   "execution_count": 181,
   "metadata": {},
   "outputs": [],
   "source": [
    "def secondhand_find_song(list_track = None,list_artist = None):\n",
    "    \"\"\"\n",
    "    Запрашиваем результат с сайта secondhand. Для этого ищем id песни запросами \n",
    "    из разных названий одной и тоже песни или автора. Возвращаем id с SHS\n",
    "    \"\"\"\n",
    "    # добавим вариант поиска без автора с помощью вставки None в список исполнителей\n",
    "    list_artist.insert(0,None)\n",
    "    # активируем режим поиска и обнуляем переменные\n",
    "    search = True\n",
    "    i, k = 0, 0\n",
    "    while search:\n",
    "        \"\"\"\n",
    "        Делаем запрос для получения id. \n",
    "        Если one_result=True-значит нашлась только одна песня, это идеальный вариант,\n",
    "        можно выходить из поиска. Если one_result=False-значит нашлось много песен, \n",
    "        требуется уточнение исполнителя. Если is_shs равно None, то пытаемся другое\n",
    "        название этой же песни найти. \n",
    "        \"\"\"\n",
    "        print('Идет поиск трека:', list_track[i],\", исполнитель: \",list_artist[k])\n",
    "        id_shs, one_result = SHS_get_id(song=list_track[i], artist=list_artist[k])\n",
    "        print(\"Получили такой ids\", id_shs, 'and' ,'вариант один',one_result)\n",
    "        if id_shs != None and one_result==True:\n",
    "            search = False\n",
    "            \n",
    "        elif id_shs != None and one_result==False:\n",
    "            # если много результатов, то меняем название исполнителя с None \n",
    "            k += 1\n",
    "            # если много одинаковых песен с разными исполнителями\n",
    "            if k>(len(list_artist)-1):\n",
    "                return id_shs\n",
    "        elif id_shs == None:\n",
    "            # если не нашли песню, то ищем по другому названию\n",
    "            if i<(len(list_track)-1):\n",
    "                i += 1\n",
    "                k = 0\n",
    "            else:\n",
    "                return None\n",
    "        else:\n",
    "            search = False\n",
    "            return id_shs\n",
    "        \n",
    "        time.sleep(6)\n",
    "        \n",
    "    return id_shs\n",
    "\n",
    "def SHS_get_id(song=None, artist=None):\n",
    "    \"\"\"\n",
    "    Функция делает запрос по названию песни и/или названию исполнителя.\n",
    "    В ответ получаем результаты поискового запроса\n",
    "    Извлекаем id первой песни с json-ответа, если он есть. Если нет, то None.\n",
    "    Если результат один, то вторая переменная принимает значение True\n",
    "    Если результатов поиска 2 и более, то вторая переменная False\n",
    "    \"\"\"\n",
    "    # делаем запрос с параметрами payload\n",
    "    payload = {'title': song, 'performer': artist, 'format': 'json'}\n",
    "    response = requests.get('https://secondhandsongs.com/search/performance', params=payload)\n",
    "    \n",
    "    # если есть коннект, то получаем данные\n",
    "    if response.status_code == 200:\n",
    "        # Получаем данные из ответа (JSON-данные)\n",
    "        result = response.json()\n",
    "    \n",
    "    # Используем регулярное выражение для извлечения строки из первого результата \n",
    "    # id это число после последнего '/'\n",
    "    if result.get('totalResults') >= 1:\n",
    "        #берем ссылку на исполнителя \n",
    "        uri = result['resultPage'][0]['uri']\n",
    "        # вытягиваем ид с помощью регулярного выражения\n",
    "        match = re.search(r\"\\d+(?=\\/?$)\", uri )\n",
    "        if match:\n",
    "            result_id = match.group(0)\n",
    "        else:\n",
    "            print('Не получилось извлечь id')\n",
    "    else:\n",
    "        return None, True\n",
    "    \n",
    "    if result.get('totalResults')==1:\n",
    "        return result_id, True\n",
    "    else:\n",
    "        return result_id, False"
   ]
  },
  {
   "cell_type": "markdown",
   "metadata": {},
   "source": [
    "Если на сайте secondhand найдена песня, то можем вывести информацию о песне. "
   ]
  },
  {
   "cell_type": "code",
   "execution_count": 182,
   "metadata": {},
   "outputs": [],
   "source": [
    "def SHS_print_info(id=None):\n",
    "    \"\"\"\n",
    "    Функция делает запрос по id песни на secondhand.\n",
    "    Через спец библиотеку получаем данные, где указано оригинал или нет, список id каверов\n",
    "    \"\"\"\n",
    "    # инициализируем класс без спец ключа\n",
    "    shs_api = Api(api_key=None)\n",
    "    # делаем запрос по id perfomance и получаем ответ\n",
    "    p = shs_api.get_performance(id)\n",
    "    \n",
    "    # выводится полная инфа\n",
    "    print(\"Это оригинал:\", p.is_original)\n",
    "    print(\"Название песни:\", p.title)\n",
    "    print(\"Ссылка на secondhand:\", p.uri)\n",
    "    print(\"Название исполнителя:\", p.performer_name)\n",
    "    print(\"Каверы на эту песню:\", p.cover_ids)\n",
    "    print(\"ИД оригинала песни:\", p.originals)\n",
    "    \n",
    "    return None\n"
   ]
  },
  {
   "cell_type": "markdown",
   "metadata": {},
   "source": [
    "Весь путь метода через secondhand описывается этой функцией. "
   ]
  },
  {
   "cell_type": "code",
   "execution_count": 183,
   "metadata": {},
   "outputs": [],
   "source": [
    "def secondhand_way(input_isrc = None, input_track = None):\n",
    "    performer, track_names = find_info_by_isrc(isrc=input_isrc, track=input_track)\n",
    "    print(\"Исполнители: \",performer)\n",
    "    print(\"Названия треков: \", track_names)\n",
    "    id_song = secondhand_get_song(list_track = track_names,list_artist = performer)\n",
    "    #clear_output()\n",
    "    if id_song!=None :\n",
    "        SHS_print_info(id_song)\n",
    "    else:\n",
    "        print('К сожалению в secondhand нет информации о песне')"
   ]
  },
  {
   "cell_type": "code",
   "execution_count": 184,
   "metadata": {},
   "outputs": [
    {
     "name": "stdout",
     "output_type": "stream",
     "text": [
      "Делаем запрос в Deezer и MusicBrainz на поиск песни и названия исполнителя\n",
      "Исполнители:  ['Brad Mehldau']\n",
      "Названия треков:  ['Blackbird']\n",
      "Идет поиск: Blackbird  от  None\n",
      "К сожалению в secondhand нет информации о песне\n"
     ]
    }
   ],
   "source": [
    "secondhand_way(input_isrc=\"USWB19600698\",input_track='Blackbird')\n",
    "#secondhand_way(input_isrc=\"RUB861900320\",input_track='в городе где нет метро')\n"
   ]
  },
  {
   "cell_type": "code",
   "execution_count": 161,
   "metadata": {},
   "outputs": [
    {
     "data": {
      "text/plain": [
       "('39465', True)"
      ]
     },
     "execution_count": 161,
     "metadata": {},
     "output_type": "execute_result"
    }
   ],
   "source": [
    "#SHS_get_id(song=sn[0], artist='None')\n",
    "SHS_get_id(song=sn[2], artist=None)\n"
   ]
  },
  {
   "cell_type": "code",
   "execution_count": null,
   "metadata": {},
   "outputs": [],
   "source": [
    "\n",
    "\n",
    "     "
   ]
  },
  {
   "cell_type": "markdown",
   "metadata": {},
   "source": [
    "Файл json читать глазами не очень удобно. Получим причесанный вид через функцию, которая расставляет переносы строк и пробелы."
   ]
  },
  {
   "cell_type": "code",
   "execution_count": 162,
   "metadata": {},
   "outputs": [
    {
     "ename": "NameError",
     "evalue": "name 'json_data' is not defined",
     "output_type": "error",
     "traceback": [
      "\u001b[0;31m---------------------------------------------------------------------------\u001b[0m",
      "\u001b[0;31mNameError\u001b[0m                                 Traceback (most recent call last)",
      "\u001b[1;32m/home/dmitrii/Документы/YA_msc/Yandex_Music/Iter2.ipynb Cell 15\u001b[0m line \u001b[0;36m1\n\u001b[0;32m----> <a href='vscode-notebook-cell:/home/dmitrii/%D0%94%D0%BE%D0%BA%D1%83%D0%BC%D0%B5%D0%BD%D1%82%D1%8B/YA_msc/Yandex_Music/Iter2.ipynb#X15sZmlsZQ%3D%3D?line=0'>1</a>\u001b[0m formatted_json \u001b[39m=\u001b[39m json\u001b[39m.\u001b[39mdumps( json_data, indent\u001b[39m=\u001b[39m\u001b[39m4\u001b[39m)\n\u001b[1;32m      <a href='vscode-notebook-cell:/home/dmitrii/%D0%94%D0%BE%D0%BA%D1%83%D0%BC%D0%B5%D0%BD%D1%82%D1%8B/YA_msc/Yandex_Music/Iter2.ipynb#X15sZmlsZQ%3D%3D?line=2'>3</a>\u001b[0m \u001b[39mprint\u001b[39m(formatted_json)\n",
      "\u001b[0;31mNameError\u001b[0m: name 'json_data' is not defined"
     ]
    }
   ],
   "source": [
    "formatted_json = json.dumps( json_data, indent=4)\n",
    "\n",
    "print(formatted_json)"
   ]
  },
  {
   "cell_type": "markdown",
   "metadata": {},
   "source": [
    " \"totalResults\": 1 - Один результат поиска. \"isOriginal\": true - песня оригинал. Кое-что уже имеем. Чтобы получить каверы воспользуемся запросом с указанием ID песни с сайта secondhand. ID в данном случае 1983. В первой ссылке после последнего сплеша написан. Может быть существует путь проще получить ID или обойтись вовсе без него. Я пытался получить через API еще данные с сайта(каверы и т.д.), но не смог понять дальше API, но зато нашел библиотеку для работы с сайтом secondhandsong. Ссылка на гит-хаб https://github.com/arthurtofani/secondhandsongs\n",
    "\n",
    " Далее через эту библиотеку получаем подробности о песне. "
   ]
  },
  {
   "cell_type": "code",
   "execution_count": null,
   "metadata": {},
   "outputs": [],
   "source": []
  },
  {
   "cell_type": "markdown",
   "metadata": {},
   "source": [
    "Тут видим уже полную инфу. Нас больше всего интересует cover_ids - список id с каверами песен. Группа известная, поэтому каверов много. \n",
    "\n",
    "Момент, который я пока упустил из вида - мы ввели название группы beatles, но на самом деле мы его не знали. В исходном датасете есть только название песни. Попробуем получить название группы через библиотеку, которую яндекс рекомендовал. Отдельной песни заслуживает установка этой библиотеки. Эта библиотека ищет информацию на нескольких сайтах и непонятным образом суммирует её. Исходными данными выступят название песни и ISRC.  "
   ]
  },
  {
   "cell_type": "markdown",
   "metadata": {},
   "source": [
    "Исходныеми данными будут ISRC. Делаем запрос, чтобы получить подробную информацию о песне, собрать больше информации. "
   ]
  },
  {
   "cell_type": "code",
   "execution_count": null,
   "metadata": {},
   "outputs": [],
   "source": [
    "#song = 'я сошла с ума'\n",
    "in_isrc = \"RUA110100031\"\n",
    "#in_isrc = \"USM951500102\"\n",
    "#in_isrc = \"USA370512431\""
   ]
  },
  {
   "cell_type": "code",
   "execution_count": null,
   "metadata": {},
   "outputs": [],
   "source": []
  },
  {
   "cell_type": "markdown",
   "metadata": {},
   "source": [
    "Непонятный вывод - почему нет имени артиста и год указан как 2006? Ведь песня известная Тату и год 2000 должен быть. Попробуем отдельно к каждой базе обратиться. "
   ]
  },
  {
   "cell_type": "markdown",
   "metadata": {},
   "source": [
    "import re\n",
    "# обращаемся к musicbrain\n",
    "musicbrain = linking.MusicBrainzAlign(isrc = in_isrc)\n",
    "mb_out = musicbrain._search_by_isrc()\n",
    "#очень длинный вывод в json\n",
    "if mb_out!=None:\n",
    "    mb_artist = mb_out[\"isrc\"][\"recording-list\"][0][\"artist-credit\"][0]['artist']['name']\n",
    "    str_json = json.dumps(mb_out)\n",
    "    mb_year = min( re.findall(r\"(\\d{4}\\-\\d{2}\\-\\d{2})\", str_json) )\n",
    "else:\n",
    "    mb_year, mb_artist = None, None\n",
    "\n",
    "print(mb_artist)\n",
    "print(mb_year)"
   ]
  },
  {
   "cell_type": "code",
   "execution_count": null,
   "metadata": {},
   "outputs": [],
   "source": [
    "url = 'https://api.deezer.com/2.0/track/isrc:RUB861900320'\n",
    "response = requests.get(url)\n",
    "\n",
    "# если все хорошо, то бует статус 200\n",
    "if response.status_code == 200:\n",
    "    # Получаем данные из ответа (например, JSON-данные)\n",
    "    json_data = response.json()\n",
    "    \n",
    "else:\n",
    "    # В случае ошибки выводим сообщение\n",
    "    print(f\"Ошибка: {response.status_code}\")\n",
    "\n",
    "\n",
    "\n",
    "formatted_json = json.dumps( json_data, ensure_ascii=False, indent=4)\n",
    "\n",
    "print(formatted_json)\n",
    "\n",
    "print(json_data[\"artist\"][\"name\"])"
   ]
  },
  {
   "cell_type": "markdown",
   "metadata": {},
   "source": [
    "def DZR_get_info(isrc=None):\n",
    "    \"\"\"\n",
    "    Делаем запрос по ISRC на сайт Deezer для поиска инфы об исполнителе\n",
    "    \"\"\"\n",
    "    # если прислали ненеулевую переменную, то формируем и делаем запрос\n",
    "    if isrc!=None:\n",
    "        dzr_url = 'https://api.deezer.com/2.0/track/isrc:'+isrc\n",
    "        response = requests.get(dzr_url)\n",
    "    else:\n",
    "        return None\n",
    "    \n",
    "    # запрашиваем данные\n",
    "    if response.status_code == 200:\n",
    "    # Получаем данные из ответа (JSON-данные)\n",
    "        json_data = response.json()\n",
    "    else:\n",
    "        # В случае ошибки выводим сообщение\n",
    "        print(f\"Ошибка: {response.status_code}\")\n",
    "        return None\n",
    "    \n",
    "    return json_data\n",
    "    "
   ]
  },
  {
   "cell_type": "markdown",
   "metadata": {},
   "source": []
  }
 ],
 "metadata": {
  "kernelspec": {
   "display_name": "myenv",
   "language": "python",
   "name": "python3"
  },
  "language_info": {
   "codemirror_mode": {
    "name": "ipython",
    "version": 3
   },
   "file_extension": ".py",
   "mimetype": "text/x-python",
   "name": "python",
   "nbconvert_exporter": "python",
   "pygments_lexer": "ipython3",
   "version": "3.11.5"
  }
 },
 "nbformat": 4,
 "nbformat_minor": 2
}
