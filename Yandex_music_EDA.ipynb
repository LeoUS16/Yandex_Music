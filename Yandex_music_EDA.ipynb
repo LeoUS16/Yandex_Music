{
 "cells": [
  {
   "cell_type": "markdown",
   "id": "9bc7f4cc",
   "metadata": {},
   "source": [
    "## Обнаружение каверов музыкальных треков"
   ]
  },
  {
   "cell_type": "markdown",
   "id": "0c1d8cfe",
   "metadata": {},
   "source": [
    "Обнаружение треков каверов - важная продуктовая задача, которая может значительно улучшить качество рекомендаций музыкального сервиса и повысить счастье наших пользователей. Если мы умеем с высокой точностью классифицировать каверы и связывать их между собой, то можно предложить пользователю новые возможности для управления потоком треков. "
   ]
  },
  {
   "cell_type": "markdown",
   "id": "f90f33c0",
   "metadata": {},
   "source": [
    "### EDA "
   ]
  },
  {
   "cell_type": "markdown",
   "id": "4dfc8281",
   "metadata": {},
   "source": [
    "Нам были представлена база данных о треках, состаящая из трех датасетов:\n",
    "\n",
    "- `covers.json` содержит разметку каверов, сделанную редакторами сервиса;\n",
    "\n",
    "- `meta.json` содержит метаинформацию о треках;\n",
    "\n",
    "- `lyrics.json` содержит тексты песен."
   ]
  },
  {
   "cell_type": "markdown",
   "id": "9a77c5d6",
   "metadata": {},
   "source": [
    "Для начала переведем json формат в датафрейм:"
   ]
  },
  {
   "cell_type": "code",
   "execution_count": 1,
   "id": "61596ab4",
   "metadata": {},
   "outputs": [],
   "source": [
    "import pandas as pd\n",
    "from datetime import datetime\n",
    "import json\n",
    "import matplotlib.pyplot as plt\n",
    "import seaborn as sns"
   ]
  },
  {
   "cell_type": "code",
   "execution_count": 2,
   "id": "637bfc84",
   "metadata": {},
   "outputs": [],
   "source": [
    "import warnings\n",
    "warnings.simplefilter(action=\"ignore\", category=FutureWarning)"
   ]
  },
  {
   "cell_type": "code",
   "execution_count": 3,
   "id": "a4f5070d",
   "metadata": {},
   "outputs": [],
   "source": [
    "def read_json(file_name:str):\n",
    "    data = []\n",
    "\n",
    "    # Открываем файл JSON для чтения\n",
    "    with open(file_name, 'r') as file:\n",
    "        for line in file:\n",
    "            # Пытаемся разобрать каждую строку JSON и добавить ее в список\n",
    "            try:\n",
    "                obj = json.loads(line)\n",
    "                data.append(obj)\n",
    "            except json.JSONDecodeError:\n",
    "                print(f\"Ошибка при разборе строки: {line}\")\n",
    "    return pd.DataFrame(data)\n",
    "\n",
    "covers = read_json('covers.json')\n",
    "text = read_json('lyrics.json')\n",
    "meta = read_json('meta.json')"
   ]
  },
  {
   "cell_type": "markdown",
   "id": "b146c688",
   "metadata": {},
   "source": [
    "### Covers"
   ]
  },
  {
   "cell_type": "code",
   "execution_count": 4,
   "id": "9c2dffd4",
   "metadata": {},
   "outputs": [
    {
     "data": {
      "text/html": [
       "<div>\n",
       "<style scoped>\n",
       "    .dataframe tbody tr th:only-of-type {\n",
       "        vertical-align: middle;\n",
       "    }\n",
       "\n",
       "    .dataframe tbody tr th {\n",
       "        vertical-align: top;\n",
       "    }\n",
       "\n",
       "    .dataframe thead th {\n",
       "        text-align: right;\n",
       "    }\n",
       "</style>\n",
       "<table border=\"1\" class=\"dataframe\">\n",
       "  <thead>\n",
       "    <tr style=\"text-align: right;\">\n",
       "      <th></th>\n",
       "      <th>original_track_id</th>\n",
       "      <th>track_id</th>\n",
       "      <th>track_remake_type</th>\n",
       "    </tr>\n",
       "  </thead>\n",
       "  <tbody>\n",
       "    <tr>\n",
       "      <th>0</th>\n",
       "      <td>eeb69a3cb92300456b6a5f4162093851</td>\n",
       "      <td>eeb69a3cb92300456b6a5f4162093851</td>\n",
       "      <td>ORIGINAL</td>\n",
       "    </tr>\n",
       "    <tr>\n",
       "      <th>1</th>\n",
       "      <td>fe7ee8fc1959cc7214fa21c4840dff0a</td>\n",
       "      <td>fe7ee8fc1959cc7214fa21c4840dff0a</td>\n",
       "      <td>ORIGINAL</td>\n",
       "    </tr>\n",
       "    <tr>\n",
       "      <th>2</th>\n",
       "      <td>cd89fef7ffdd490db800357f47722b20</td>\n",
       "      <td>cd89fef7ffdd490db800357f47722b20</td>\n",
       "      <td>ORIGINAL</td>\n",
       "    </tr>\n",
       "    <tr>\n",
       "      <th>3</th>\n",
       "      <td>995665640dc319973d3173a74a03860c</td>\n",
       "      <td>995665640dc319973d3173a74a03860c</td>\n",
       "      <td>ORIGINAL</td>\n",
       "    </tr>\n",
       "    <tr>\n",
       "      <th>4</th>\n",
       "      <td>None</td>\n",
       "      <td>d6288499d0083cc34e60a077b7c4b3e1</td>\n",
       "      <td>COVER</td>\n",
       "    </tr>\n",
       "    <tr>\n",
       "      <th>...</th>\n",
       "      <td>...</td>\n",
       "      <td>...</td>\n",
       "      <td>...</td>\n",
       "    </tr>\n",
       "    <tr>\n",
       "      <th>71592</th>\n",
       "      <td>4788e0bf61d80ef5ec9380aa8a8119d9</td>\n",
       "      <td>4788e0bf61d80ef5ec9380aa8a8119d9</td>\n",
       "      <td>ORIGINAL</td>\n",
       "    </tr>\n",
       "    <tr>\n",
       "      <th>71593</th>\n",
       "      <td>None</td>\n",
       "      <td>78b2db35476f134dc3cdfbf4d77ba034</td>\n",
       "      <td>COVER</td>\n",
       "    </tr>\n",
       "    <tr>\n",
       "      <th>71594</th>\n",
       "      <td>None</td>\n",
       "      <td>e720ff378efe032df56e0e656a6a92d3</td>\n",
       "      <td>COVER</td>\n",
       "    </tr>\n",
       "    <tr>\n",
       "      <th>71595</th>\n",
       "      <td>554e33d79e258da91149c3a4985cf6a1</td>\n",
       "      <td>554e33d79e258da91149c3a4985cf6a1</td>\n",
       "      <td>ORIGINAL</td>\n",
       "    </tr>\n",
       "    <tr>\n",
       "      <th>71596</th>\n",
       "      <td>7b0f6ff24137be50cf5ea5f82d789448</td>\n",
       "      <td>7b0f6ff24137be50cf5ea5f82d789448</td>\n",
       "      <td>ORIGINAL</td>\n",
       "    </tr>\n",
       "  </tbody>\n",
       "</table>\n",
       "<p>71597 rows × 3 columns</p>\n",
       "</div>"
      ],
      "text/plain": [
       "                      original_track_id                          track_id  \\\n",
       "0      eeb69a3cb92300456b6a5f4162093851  eeb69a3cb92300456b6a5f4162093851   \n",
       "1      fe7ee8fc1959cc7214fa21c4840dff0a  fe7ee8fc1959cc7214fa21c4840dff0a   \n",
       "2      cd89fef7ffdd490db800357f47722b20  cd89fef7ffdd490db800357f47722b20   \n",
       "3      995665640dc319973d3173a74a03860c  995665640dc319973d3173a74a03860c   \n",
       "4                                  None  d6288499d0083cc34e60a077b7c4b3e1   \n",
       "...                                 ...                               ...   \n",
       "71592  4788e0bf61d80ef5ec9380aa8a8119d9  4788e0bf61d80ef5ec9380aa8a8119d9   \n",
       "71593                              None  78b2db35476f134dc3cdfbf4d77ba034   \n",
       "71594                              None  e720ff378efe032df56e0e656a6a92d3   \n",
       "71595  554e33d79e258da91149c3a4985cf6a1  554e33d79e258da91149c3a4985cf6a1   \n",
       "71596  7b0f6ff24137be50cf5ea5f82d789448  7b0f6ff24137be50cf5ea5f82d789448   \n",
       "\n",
       "      track_remake_type  \n",
       "0              ORIGINAL  \n",
       "1              ORIGINAL  \n",
       "2              ORIGINAL  \n",
       "3              ORIGINAL  \n",
       "4                 COVER  \n",
       "...                 ...  \n",
       "71592          ORIGINAL  \n",
       "71593             COVER  \n",
       "71594             COVER  \n",
       "71595          ORIGINAL  \n",
       "71596          ORIGINAL  \n",
       "\n",
       "[71597 rows x 3 columns]"
      ]
     },
     "execution_count": 4,
     "metadata": {},
     "output_type": "execute_result"
    }
   ],
   "source": [
    "covers"
   ]
  },
  {
   "cell_type": "code",
   "execution_count": 5,
   "id": "173f8826",
   "metadata": {},
   "outputs": [
    {
     "name": "stdout",
     "output_type": "stream",
     "text": [
      "<class 'pandas.core.frame.DataFrame'>\n",
      "RangeIndex: 71597 entries, 0 to 71596\n",
      "Data columns (total 3 columns):\n",
      " #   Column             Non-Null Count  Dtype \n",
      "---  ------             --------------  ----- \n",
      " 0   original_track_id  4821 non-null   object\n",
      " 1   track_id           71597 non-null  object\n",
      " 2   track_remake_type  71597 non-null  object\n",
      "dtypes: object(3)\n",
      "memory usage: 1.6+ MB\n"
     ]
    }
   ],
   "source": [
    "covers.info()"
   ]
  },
  {
   "cell_type": "markdown",
   "id": "3920d097",
   "metadata": {},
   "source": [
    "Датафрейм `covers` содержит следующие данные:\n",
    "\n",
    "- `track_id` - уникальный идентификатор трека;\n",
    "\n",
    "- `track_remake_type` - метка, присвоенная редакторами. Может принимать значения ORIGINAL и COVER;\n",
    "\n",
    "- `original_track_id` - уникальный идентификатор исходного трека."
   ]
  },
  {
   "cell_type": "markdown",
   "id": "4b5e2de4",
   "metadata": {},
   "source": [
    "Как видно из данных, столбец `original_track_id` имеет пропуски в данных."
   ]
  },
  {
   "cell_type": "markdown",
   "id": "053ce4dd",
   "metadata": {},
   "source": [
    "Посмотрим, содержит ли датафрейм дубликаты:"
   ]
  },
  {
   "cell_type": "code",
   "execution_count": 6,
   "id": "5e777dd4",
   "metadata": {},
   "outputs": [
    {
     "data": {
      "text/plain": [
       "0"
      ]
     },
     "execution_count": 6,
     "metadata": {},
     "output_type": "execute_result"
    }
   ],
   "source": [
    "covers.duplicated().sum()"
   ]
  },
  {
   "cell_type": "markdown",
   "id": "d6ff1c6c",
   "metadata": {},
   "source": [
    "Дубликатов нет, посмотрим, имеются ли одинаковые треки по столбцу `track_id`:"
   ]
  },
  {
   "cell_type": "code",
   "execution_count": 7,
   "id": "deb2d66a",
   "metadata": {},
   "outputs": [
    {
     "data": {
      "text/plain": [
       "71597"
      ]
     },
     "execution_count": 7,
     "metadata": {},
     "output_type": "execute_result"
    }
   ],
   "source": [
    "covers['track_id'].nunique()"
   ]
  },
  {
   "cell_type": "markdown",
   "id": "0913ca63",
   "metadata": {},
   "source": [
    "Все треки уникальные. Построим гистограмму распределения типов треков на кавер и оригинал:"
   ]
  },
  {
   "cell_type": "code",
   "execution_count": 8,
   "id": "89a6527c",
   "metadata": {},
   "outputs": [
    {
     "data": {
      "image/png": "[encoded data removed]",
      "text/plain": [
       "<Figure size 640x480 with 1 Axes>"
      ]
     },
     "metadata": {},
     "output_type": "display_data"
    },
    {
     "name": "stdout",
     "output_type": "stream",
     "text": [
      "COVER       67304\n",
      "ORIGINAL     4293\n",
      "Name: track_remake_type, dtype: int64\n"
     ]
    }
   ],
   "source": [
    "plt.hist(covers['track_remake_type'], bins=4, color='blue', alpha=0.7)\n",
    "plt.xlabel('Тип трека')\n",
    "plt.ylabel('Количество треков')\n",
    "plt.title('Гистограмма распределения типов треков')\n",
    "plt.show()\n",
    "\n",
    "print(covers['track_remake_type'].value_counts())"
   ]
  },
  {
   "cell_type": "markdown",
   "id": "90b2f383",
   "metadata": {},
   "source": [
    "Как видим каверов датафрейм содежрит намного больше:\n",
    "\n",
    "- количество каверов - 67304;\n",
    "- количество оригиналов - 4293."
   ]
  },
  {
   "cell_type": "markdown",
   "id": "1ef120ab",
   "metadata": {},
   "source": [
    "#### Краткий вывод\n",
    "\n",
    "Датафрейм `covers` содержит уникальные значения `track_id` и `track_remake_type`, однако имеет пропуски в столбце `original_track_id`.\n",
    "\n",
    "Тут может вставить мысль о заполнении пропусков..."
   ]
  },
  {
   "cell_type": "markdown",
   "id": "8f50a4c2",
   "metadata": {},
   "source": [
    "### Text"
   ]
  },
  {
   "cell_type": "markdown",
   "id": "3382d02c",
   "metadata": {},
   "source": [
    "Датафрейм `text` содержит следующие данные:\n",
    "\n",
    "- `track_id` - уникальный идентификатор трека;\n",
    "\n",
    "- `lyricId` - уникальный идентификатор текста;\n",
    "\n",
    "- `text` - текст трека."
   ]
  },
  {
   "cell_type": "code",
   "execution_count": 9,
   "id": "a312b64c",
   "metadata": {},
   "outputs": [
    {
     "data": {
      "text/html": [
       "<div>\n",
       "<style scoped>\n",
       "    .dataframe tbody tr th:only-of-type {\n",
       "        vertical-align: middle;\n",
       "    }\n",
       "\n",
       "    .dataframe tbody tr th {\n",
       "        vertical-align: top;\n",
       "    }\n",
       "\n",
       "    .dataframe thead th {\n",
       "        text-align: right;\n",
       "    }\n",
       "</style>\n",
       "<table border=\"1\" class=\"dataframe\">\n",
       "  <thead>\n",
       "    <tr style=\"text-align: right;\">\n",
       "      <th></th>\n",
       "      <th>lyricId</th>\n",
       "      <th>text</th>\n",
       "      <th>track_id</th>\n",
       "    </tr>\n",
       "  </thead>\n",
       "  <tbody>\n",
       "    <tr>\n",
       "      <th>0</th>\n",
       "      <td>a951f9504e89759e9d23039b7b17ec14</td>\n",
       "      <td>Живу сейчас обломами, обломками не той любви\\n...</td>\n",
       "      <td>1c4b1230f937e4c548ff732523214dcd</td>\n",
       "    </tr>\n",
       "    <tr>\n",
       "      <th>1</th>\n",
       "      <td>0c749bc3f01eb8e6cf986fa14ccfc585</td>\n",
       "      <td>Tell me your fable\\nA fable\\nTell me your fabl...</td>\n",
       "      <td>0faea89b0d7d6235b5b74def72511bd8</td>\n",
       "    </tr>\n",
       "    <tr>\n",
       "      <th>2</th>\n",
       "      <td>e2c8830fbc86e5964478243099eec23a</td>\n",
       "      <td>You're ashamed about all your fears and doubts...</td>\n",
       "      <td>9c6dc41d5ccd9968d07f055da5d8f741</td>\n",
       "    </tr>\n",
       "    <tr>\n",
       "      <th>3</th>\n",
       "      <td>e2c8830fbc86e5964478243099eec23a</td>\n",
       "      <td>You're ashamed about all your fears and doubts...</td>\n",
       "      <td>bfd04a73e9cffdf0e282c92219a86ea1</td>\n",
       "    </tr>\n",
       "    <tr>\n",
       "      <th>4</th>\n",
       "      <td>7624653ca8522ba93470843c74961b7d</td>\n",
       "      <td>You showed him all the best of you,\\nBut I'm a...</td>\n",
       "      <td>8d70930d09cd239c948408d1317d8659</td>\n",
       "    </tr>\n",
       "    <tr>\n",
       "      <th>...</th>\n",
       "      <td>...</td>\n",
       "      <td>...</td>\n",
       "      <td>...</td>\n",
       "    </tr>\n",
       "    <tr>\n",
       "      <th>11409</th>\n",
       "      <td>90522f12df92da5d585f8f6ec9bb34b5</td>\n",
       "      <td>All my little plans and schemes\\nLost like som...</td>\n",
       "      <td>b734225e54122798535b40666e6e361e</td>\n",
       "    </tr>\n",
       "    <tr>\n",
       "      <th>11410</th>\n",
       "      <td>b82bd468c888ae17d2e976c8cf3b9d4c</td>\n",
       "      <td>I will make my way\\nI'm trying to survive anot...</td>\n",
       "      <td>b3cbb82e4ef67e75b1e47054a681db86</td>\n",
       "    </tr>\n",
       "    <tr>\n",
       "      <th>11411</th>\n",
       "      <td>22bae9d3185254ea34072c692a2cd63d</td>\n",
       "      <td>Left a good job in the city\\nWorking for the m...</td>\n",
       "      <td>d5c149b59a800a6f9f61adda6d3e1b1d</td>\n",
       "    </tr>\n",
       "    <tr>\n",
       "      <th>11412</th>\n",
       "      <td>0979b4049635e1c0fc161573f75ab23a</td>\n",
       "      <td>Left a good job in the city\\nWorking for the m...</td>\n",
       "      <td>d5c149b59a800a6f9f61adda6d3e1b1d</td>\n",
       "    </tr>\n",
       "    <tr>\n",
       "      <th>11413</th>\n",
       "      <td>4c07f8d17222f821114790241f816431</td>\n",
       "      <td>Этой ночью чьё-то сердце от любви горит\\nВсё в...</td>\n",
       "      <td>c860754a50dac664d847bca85e6897f4</td>\n",
       "    </tr>\n",
       "  </tbody>\n",
       "</table>\n",
       "<p>11414 rows × 3 columns</p>\n",
       "</div>"
      ],
      "text/plain": [
       "                                lyricId  \\\n",
       "0      a951f9504e89759e9d23039b7b17ec14   \n",
       "1      0c749bc3f01eb8e6cf986fa14ccfc585   \n",
       "2      e2c8830fbc86e5964478243099eec23a   \n",
       "3      e2c8830fbc86e5964478243099eec23a   \n",
       "4      7624653ca8522ba93470843c74961b7d   \n",
       "...                                 ...   \n",
       "11409  90522f12df92da5d585f8f6ec9bb34b5   \n",
       "11410  b82bd468c888ae17d2e976c8cf3b9d4c   \n",
       "11411  22bae9d3185254ea34072c692a2cd63d   \n",
       "11412  0979b4049635e1c0fc161573f75ab23a   \n",
       "11413  4c07f8d17222f821114790241f816431   \n",
       "\n",
       "                                                    text  \\\n",
       "0      Живу сейчас обломами, обломками не той любви\\n...   \n",
       "1      Tell me your fable\\nA fable\\nTell me your fabl...   \n",
       "2      You're ashamed about all your fears and doubts...   \n",
       "3      You're ashamed about all your fears and doubts...   \n",
       "4      You showed him all the best of you,\\nBut I'm a...   \n",
       "...                                                  ...   \n",
       "11409  All my little plans and schemes\\nLost like som...   \n",
       "11410  I will make my way\\nI'm trying to survive anot...   \n",
       "11411  Left a good job in the city\\nWorking for the m...   \n",
       "11412  Left a good job in the city\\nWorking for the m...   \n",
       "11413  Этой ночью чьё-то сердце от любви горит\\nВсё в...   \n",
       "\n",
       "                               track_id  \n",
       "0      1c4b1230f937e4c548ff732523214dcd  \n",
       "1      0faea89b0d7d6235b5b74def72511bd8  \n",
       "2      9c6dc41d5ccd9968d07f055da5d8f741  \n",
       "3      bfd04a73e9cffdf0e282c92219a86ea1  \n",
       "4      8d70930d09cd239c948408d1317d8659  \n",
       "...                                 ...  \n",
       "11409  b734225e54122798535b40666e6e361e  \n",
       "11410  b3cbb82e4ef67e75b1e47054a681db86  \n",
       "11411  d5c149b59a800a6f9f61adda6d3e1b1d  \n",
       "11412  d5c149b59a800a6f9f61adda6d3e1b1d  \n",
       "11413  c860754a50dac664d847bca85e6897f4  \n",
       "\n",
       "[11414 rows x 3 columns]"
      ]
     },
     "execution_count": 9,
     "metadata": {},
     "output_type": "execute_result"
    }
   ],
   "source": [
    "text"
   ]
  },
  {
   "cell_type": "code",
   "execution_count": 10,
   "id": "3a5d4fce",
   "metadata": {},
   "outputs": [
    {
     "name": "stdout",
     "output_type": "stream",
     "text": [
      "<class 'pandas.core.frame.DataFrame'>\n",
      "RangeIndex: 11414 entries, 0 to 11413\n",
      "Data columns (total 3 columns):\n",
      " #   Column    Non-Null Count  Dtype \n",
      "---  ------    --------------  ----- \n",
      " 0   lyricId   11414 non-null  object\n",
      " 1   text      11414 non-null  object\n",
      " 2   track_id  11414 non-null  object\n",
      "dtypes: object(3)\n",
      "memory usage: 267.6+ KB\n"
     ]
    }
   ],
   "source": [
    "text.info()"
   ]
  },
  {
   "cell_type": "markdown",
   "id": "ebed01da",
   "metadata": {},
   "source": [
    "Датафрейм `text` содежрит 11414 строк, не имеет пропусков и все значения типа object. Проверим, имеются ли дубликаты:"
   ]
  },
  {
   "cell_type": "code",
   "execution_count": 11,
   "id": "ce5a90df",
   "metadata": {},
   "outputs": [
    {
     "data": {
      "text/plain": [
       "0"
      ]
     },
     "execution_count": 11,
     "metadata": {},
     "output_type": "execute_result"
    }
   ],
   "source": [
    "text.duplicated().sum()"
   ]
  },
  {
   "cell_type": "markdown",
   "id": "db0962e4",
   "metadata": {},
   "source": [
    "### Краткий вывод\n",
    "\n",
    "Датафрем `text` не содежрит дубликатов и имеет 11414 уникальных значений."
   ]
  },
  {
   "cell_type": "markdown",
   "id": "b3eaa8c3",
   "metadata": {},
   "source": [
    "### Meta"
   ]
  },
  {
   "cell_type": "markdown",
   "id": "c3ddf4da",
   "metadata": {},
   "source": [
    "Датафрейм `meta` содержит следующие данные:\n",
    "\n",
    "- `track_id` - уникальный идентификатор трека;\n",
    "\n",
    "- `dttm` - первая дата появления информации о треке;\n",
    "\n",
    "- `title` - название трека;\n",
    "\n",
    "- `language` - язык исполнения;\n",
    "\n",
    "- `isrc` - международный уникальный идентификатор трека;\n",
    "\n",
    "- `genres` - жанры;\n",
    "\n",
    "- `duration` - длительность трека;"
   ]
  },
  {
   "cell_type": "code",
   "execution_count": 12,
   "id": "bf0e95a8",
   "metadata": {},
   "outputs": [
    {
     "data": {
      "text/html": [
       "<div>\n",
       "<style scoped>\n",
       "    .dataframe tbody tr th:only-of-type {\n",
       "        vertical-align: middle;\n",
       "    }\n",
       "\n",
       "    .dataframe tbody tr th {\n",
       "        vertical-align: top;\n",
       "    }\n",
       "\n",
       "    .dataframe thead th {\n",
       "        text-align: right;\n",
       "    }\n",
       "</style>\n",
       "<table border=\"1\" class=\"dataframe\">\n",
       "  <thead>\n",
       "    <tr style=\"text-align: right;\">\n",
       "      <th></th>\n",
       "      <th>track_id</th>\n",
       "      <th>dttm</th>\n",
       "      <th>title</th>\n",
       "      <th>language</th>\n",
       "      <th>isrc</th>\n",
       "      <th>genres</th>\n",
       "      <th>duration</th>\n",
       "    </tr>\n",
       "  </thead>\n",
       "  <tbody>\n",
       "    <tr>\n",
       "      <th>0</th>\n",
       "      <td>c3b9d6a354ca008aa4518329aaa21380</td>\n",
       "      <td>1.639688e+12</td>\n",
       "      <td>Happy New Year</td>\n",
       "      <td>EN</td>\n",
       "      <td>RUB422103970</td>\n",
       "      <td>[DANCE]</td>\n",
       "      <td>161120.0</td>\n",
       "    </tr>\n",
       "    <tr>\n",
       "      <th>1</th>\n",
       "      <td>c57e3d13bbbf5322584a7e92e6f1f7ff</td>\n",
       "      <td>1.637762e+12</td>\n",
       "      <td>Bad Habits</td>\n",
       "      <td>EN</td>\n",
       "      <td>QZN882178276</td>\n",
       "      <td>[ELECTRONICS]</td>\n",
       "      <td>362260.0</td>\n",
       "    </tr>\n",
       "    <tr>\n",
       "      <th>2</th>\n",
       "      <td>955f2aafe8717908c140bf122ba4172d</td>\n",
       "      <td>1.637768e+12</td>\n",
       "      <td>Por Esa Loca Vanidad</td>\n",
       "      <td>None</td>\n",
       "      <td>QZNJZ2122549</td>\n",
       "      <td>[FOLK, LATINFOLK]</td>\n",
       "      <td>260000.0</td>\n",
       "    </tr>\n",
       "    <tr>\n",
       "      <th>3</th>\n",
       "      <td>fae5a077c9956045955dde02143bd8ff</td>\n",
       "      <td>1.637768e+12</td>\n",
       "      <td>Mil Lagrimas</td>\n",
       "      <td>None</td>\n",
       "      <td>QZNJZ2166033</td>\n",
       "      <td>[FOLK, LATINFOLK]</td>\n",
       "      <td>190000.0</td>\n",
       "    </tr>\n",
       "    <tr>\n",
       "      <th>4</th>\n",
       "      <td>6bede082154d34fc18d9a6744bc95bf5</td>\n",
       "      <td>1.637768e+12</td>\n",
       "      <td>Sexo Humo y Alcohol</td>\n",
       "      <td>None</td>\n",
       "      <td>QZNJZ2122551</td>\n",
       "      <td>[FOLK, LATINFOLK]</td>\n",
       "      <td>203000.0</td>\n",
       "    </tr>\n",
       "    <tr>\n",
       "      <th>...</th>\n",
       "      <td>...</td>\n",
       "      <td>...</td>\n",
       "      <td>...</td>\n",
       "      <td>...</td>\n",
       "      <td>...</td>\n",
       "      <td>...</td>\n",
       "      <td>...</td>\n",
       "    </tr>\n",
       "    <tr>\n",
       "      <th>71764</th>\n",
       "      <td>4be93dea1715e54db86aaa7f7e9bfb10</td>\n",
       "      <td>1.560403e+12</td>\n",
       "      <td>Chanceuse</td>\n",
       "      <td>FR</td>\n",
       "      <td>CAISO1800023</td>\n",
       "      <td>[INDIE]</td>\n",
       "      <td>212690.0</td>\n",
       "    </tr>\n",
       "    <tr>\n",
       "      <th>71765</th>\n",
       "      <td>7cba0f30eaa8766d6c203eff2f3750a2</td>\n",
       "      <td>1.560433e+12</td>\n",
       "      <td>Quiero Que Vuelvas</td>\n",
       "      <td>None</td>\n",
       "      <td>ES71G1738868</td>\n",
       "      <td>[POP]</td>\n",
       "      <td>237540.0</td>\n",
       "    </tr>\n",
       "    <tr>\n",
       "      <th>71766</th>\n",
       "      <td>26b6aca1c6a02ad0e2a939164716657e</td>\n",
       "      <td>1.560448e+12</td>\n",
       "      <td>Vacation</td>\n",
       "      <td>EN</td>\n",
       "      <td>USA2B1511447</td>\n",
       "      <td>[ALTERNATIVE]</td>\n",
       "      <td>215210.0</td>\n",
       "    </tr>\n",
       "    <tr>\n",
       "      <th>71767</th>\n",
       "      <td>d904dda141238e6ad1b428bfbb21262d</td>\n",
       "      <td>1.560448e+12</td>\n",
       "      <td>Dance Hall Days</td>\n",
       "      <td>EN</td>\n",
       "      <td>USA2B1511448</td>\n",
       "      <td>[ALTERNATIVE]</td>\n",
       "      <td>251010.0</td>\n",
       "    </tr>\n",
       "    <tr>\n",
       "      <th>71768</th>\n",
       "      <td>5731fc0a34c663a0c0082c712df15266</td>\n",
       "      <td>1.625087e+12</td>\n",
       "      <td>17</td>\n",
       "      <td>RU</td>\n",
       "      <td>FR59R1921791</td>\n",
       "      <td>[POP, RUSPOP]</td>\n",
       "      <td>175640.0</td>\n",
       "    </tr>\n",
       "  </tbody>\n",
       "</table>\n",
       "<p>71769 rows × 7 columns</p>\n",
       "</div>"
      ],
      "text/plain": [
       "                               track_id          dttm                 title  \\\n",
       "0      c3b9d6a354ca008aa4518329aaa21380  1.639688e+12        Happy New Year   \n",
       "1      c57e3d13bbbf5322584a7e92e6f1f7ff  1.637762e+12            Bad Habits   \n",
       "2      955f2aafe8717908c140bf122ba4172d  1.637768e+12  Por Esa Loca Vanidad   \n",
       "3      fae5a077c9956045955dde02143bd8ff  1.637768e+12          Mil Lagrimas   \n",
       "4      6bede082154d34fc18d9a6744bc95bf5  1.637768e+12   Sexo Humo y Alcohol   \n",
       "...                                 ...           ...                   ...   \n",
       "71764  4be93dea1715e54db86aaa7f7e9bfb10  1.560403e+12             Chanceuse   \n",
       "71765  7cba0f30eaa8766d6c203eff2f3750a2  1.560433e+12    Quiero Que Vuelvas   \n",
       "71766  26b6aca1c6a02ad0e2a939164716657e  1.560448e+12              Vacation   \n",
       "71767  d904dda141238e6ad1b428bfbb21262d  1.560448e+12       Dance Hall Days   \n",
       "71768  5731fc0a34c663a0c0082c712df15266  1.625087e+12                    17   \n",
       "\n",
       "      language          isrc             genres  duration  \n",
       "0           EN  RUB422103970            [DANCE]  161120.0  \n",
       "1           EN  QZN882178276      [ELECTRONICS]  362260.0  \n",
       "2         None  QZNJZ2122549  [FOLK, LATINFOLK]  260000.0  \n",
       "3         None  QZNJZ2166033  [FOLK, LATINFOLK]  190000.0  \n",
       "4         None  QZNJZ2122551  [FOLK, LATINFOLK]  203000.0  \n",
       "...        ...           ...                ...       ...  \n",
       "71764       FR  CAISO1800023            [INDIE]  212690.0  \n",
       "71765     None  ES71G1738868              [POP]  237540.0  \n",
       "71766       EN  USA2B1511447      [ALTERNATIVE]  215210.0  \n",
       "71767       EN  USA2B1511448      [ALTERNATIVE]  251010.0  \n",
       "71768       RU  FR59R1921791      [POP, RUSPOP]  175640.0  \n",
       "\n",
       "[71769 rows x 7 columns]"
      ]
     },
     "execution_count": 12,
     "metadata": {},
     "output_type": "execute_result"
    }
   ],
   "source": [
    "meta"
   ]
  },
  {
   "cell_type": "code",
   "execution_count": 13,
   "id": "9b612bf5",
   "metadata": {},
   "outputs": [
    {
     "name": "stdout",
     "output_type": "stream",
     "text": [
      "<class 'pandas.core.frame.DataFrame'>\n",
      "RangeIndex: 71769 entries, 0 to 71768\n",
      "Data columns (total 7 columns):\n",
      " #   Column    Non-Null Count  Dtype  \n",
      "---  ------    --------------  -----  \n",
      " 0   track_id  71768 non-null  object \n",
      " 1   dttm      71768 non-null  float64\n",
      " 2   title     71768 non-null  object \n",
      " 3   language  21969 non-null  object \n",
      " 4   isrc      71455 non-null  object \n",
      " 5   genres    71768 non-null  object \n",
      " 6   duration  71768 non-null  float64\n",
      "dtypes: float64(2), object(5)\n",
      "memory usage: 3.8+ MB\n"
     ]
    }
   ],
   "source": [
    "meta.info()"
   ]
  },
  {
   "cell_type": "markdown",
   "id": "254c0525",
   "metadata": {},
   "source": [
    "Датафрейм содержит 71768 строк, сразу видно, что столбцы `language` и `isrc` имеют пропуски, также столбец даты `dttm` имеет нечитабельный формат данных. "
   ]
  },
  {
   "cell_type": "code",
   "execution_count": 14,
   "id": "022385e9",
   "metadata": {},
   "outputs": [
    {
     "data": {
      "text/plain": [
       "track_id        1\n",
       "dttm            1\n",
       "title           1\n",
       "language    49800\n",
       "isrc          314\n",
       "genres          1\n",
       "duration        1\n",
       "dtype: int64"
      ]
     },
     "execution_count": 14,
     "metadata": {},
     "output_type": "execute_result"
    }
   ],
   "source": [
    "meta.isnull().sum()"
   ]
  },
  {
   "cell_type": "code",
   "execution_count": 15,
   "id": "b79fe00d",
   "metadata": {},
   "outputs": [],
   "source": [
    "meta.dropna(inplace=True,axis=0)\n",
    "meta['dttm'] = meta['dttm'].div(1000).apply(lambda x: datetime.fromtimestamp(x))"
   ]
  },
  {
   "cell_type": "markdown",
   "id": "3bfc24cd",
   "metadata": {},
   "source": [
    "Функция убирает все пропуски, в том числе и в столбцах `language` и `isrc`. Если мы их заполняем, то это нужно поставить перед этой функцией. "
   ]
  },
  {
   "cell_type": "code",
   "execution_count": 16,
   "id": "6b0b9f89",
   "metadata": {},
   "outputs": [
    {
     "data": {
      "text/html": [
       "<div>\n",
       "<style scoped>\n",
       "    .dataframe tbody tr th:only-of-type {\n",
       "        vertical-align: middle;\n",
       "    }\n",
       "\n",
       "    .dataframe tbody tr th {\n",
       "        vertical-align: top;\n",
       "    }\n",
       "\n",
       "    .dataframe thead th {\n",
       "        text-align: right;\n",
       "    }\n",
       "</style>\n",
       "<table border=\"1\" class=\"dataframe\">\n",
       "  <thead>\n",
       "    <tr style=\"text-align: right;\">\n",
       "      <th></th>\n",
       "      <th>track_id</th>\n",
       "      <th>dttm</th>\n",
       "      <th>title</th>\n",
       "      <th>language</th>\n",
       "      <th>isrc</th>\n",
       "      <th>genres</th>\n",
       "      <th>duration</th>\n",
       "    </tr>\n",
       "  </thead>\n",
       "  <tbody>\n",
       "    <tr>\n",
       "      <th>0</th>\n",
       "      <td>c3b9d6a354ca008aa4518329aaa21380</td>\n",
       "      <td>2021-12-17 00:00:00</td>\n",
       "      <td>Happy New Year</td>\n",
       "      <td>EN</td>\n",
       "      <td>RUB422103970</td>\n",
       "      <td>[DANCE]</td>\n",
       "      <td>161120.0</td>\n",
       "    </tr>\n",
       "    <tr>\n",
       "      <th>1</th>\n",
       "      <td>c57e3d13bbbf5322584a7e92e6f1f7ff</td>\n",
       "      <td>2021-11-24 17:00:33</td>\n",
       "      <td>Bad Habits</td>\n",
       "      <td>EN</td>\n",
       "      <td>QZN882178276</td>\n",
       "      <td>[ELECTRONICS]</td>\n",
       "      <td>362260.0</td>\n",
       "    </tr>\n",
       "    <tr>\n",
       "      <th>18</th>\n",
       "      <td>55a4890cc667212a048ce81b4049d1ea</td>\n",
       "      <td>2021-11-24 19:59:05</td>\n",
       "      <td>Tacones Rojos</td>\n",
       "      <td>ES</td>\n",
       "      <td>GBKPL2174553</td>\n",
       "      <td>[POP, FOLK, LATINFOLK]</td>\n",
       "      <td>181230.0</td>\n",
       "    </tr>\n",
       "    <tr>\n",
       "      <th>25</th>\n",
       "      <td>94093810e71074bec5a6990c1c214165</td>\n",
       "      <td>2022-10-20 00:00:00</td>\n",
       "      <td>Humsafar</td>\n",
       "      <td>HI</td>\n",
       "      <td>GX3HH2123738</td>\n",
       "      <td>[FOLK]</td>\n",
       "      <td>153690.0</td>\n",
       "    </tr>\n",
       "    <tr>\n",
       "      <th>26</th>\n",
       "      <td>2b74d8dc05d365e51cf4ff2bcc9727f0</td>\n",
       "      <td>2021-12-10 00:00:00</td>\n",
       "      <td>Die Together</td>\n",
       "      <td>EN</td>\n",
       "      <td>QZS672179786</td>\n",
       "      <td>[DANCE]</td>\n",
       "      <td>177190.0</td>\n",
       "    </tr>\n",
       "    <tr>\n",
       "      <th>...</th>\n",
       "      <td>...</td>\n",
       "      <td>...</td>\n",
       "      <td>...</td>\n",
       "      <td>...</td>\n",
       "      <td>...</td>\n",
       "      <td>...</td>\n",
       "      <td>...</td>\n",
       "    </tr>\n",
       "    <tr>\n",
       "      <th>71762</th>\n",
       "      <td>495babc700c0c6b5b8549d49f163d3cb</td>\n",
       "      <td>2021-07-04 00:00:00</td>\n",
       "      <td>Stay With Me</td>\n",
       "      <td>EN</td>\n",
       "      <td>GBKPL1955058</td>\n",
       "      <td>[JAZZ, VOCALJAZZ]</td>\n",
       "      <td>152090.0</td>\n",
       "    </tr>\n",
       "    <tr>\n",
       "      <th>71764</th>\n",
       "      <td>4be93dea1715e54db86aaa7f7e9bfb10</td>\n",
       "      <td>2019-06-13 08:20:09</td>\n",
       "      <td>Chanceuse</td>\n",
       "      <td>FR</td>\n",
       "      <td>CAISO1800023</td>\n",
       "      <td>[INDIE]</td>\n",
       "      <td>212690.0</td>\n",
       "    </tr>\n",
       "    <tr>\n",
       "      <th>71766</th>\n",
       "      <td>26b6aca1c6a02ad0e2a939164716657e</td>\n",
       "      <td>2019-06-13 20:50:02</td>\n",
       "      <td>Vacation</td>\n",
       "      <td>EN</td>\n",
       "      <td>USA2B1511447</td>\n",
       "      <td>[ALTERNATIVE]</td>\n",
       "      <td>215210.0</td>\n",
       "    </tr>\n",
       "    <tr>\n",
       "      <th>71767</th>\n",
       "      <td>d904dda141238e6ad1b428bfbb21262d</td>\n",
       "      <td>2019-06-13 20:50:02</td>\n",
       "      <td>Dance Hall Days</td>\n",
       "      <td>EN</td>\n",
       "      <td>USA2B1511448</td>\n",
       "      <td>[ALTERNATIVE]</td>\n",
       "      <td>251010.0</td>\n",
       "    </tr>\n",
       "    <tr>\n",
       "      <th>71768</th>\n",
       "      <td>5731fc0a34c663a0c0082c712df15266</td>\n",
       "      <td>2021-07-01 00:00:00</td>\n",
       "      <td>17</td>\n",
       "      <td>RU</td>\n",
       "      <td>FR59R1921791</td>\n",
       "      <td>[POP, RUSPOP]</td>\n",
       "      <td>175640.0</td>\n",
       "    </tr>\n",
       "  </tbody>\n",
       "</table>\n",
       "<p>21964 rows × 7 columns</p>\n",
       "</div>"
      ],
      "text/plain": [
       "                               track_id                dttm            title  \\\n",
       "0      c3b9d6a354ca008aa4518329aaa21380 2021-12-17 00:00:00   Happy New Year   \n",
       "1      c57e3d13bbbf5322584a7e92e6f1f7ff 2021-11-24 17:00:33       Bad Habits   \n",
       "18     55a4890cc667212a048ce81b4049d1ea 2021-11-24 19:59:05    Tacones Rojos   \n",
       "25     94093810e71074bec5a6990c1c214165 2022-10-20 00:00:00         Humsafar   \n",
       "26     2b74d8dc05d365e51cf4ff2bcc9727f0 2021-12-10 00:00:00     Die Together   \n",
       "...                                 ...                 ...              ...   \n",
       "71762  495babc700c0c6b5b8549d49f163d3cb 2021-07-04 00:00:00     Stay With Me   \n",
       "71764  4be93dea1715e54db86aaa7f7e9bfb10 2019-06-13 08:20:09        Chanceuse   \n",
       "71766  26b6aca1c6a02ad0e2a939164716657e 2019-06-13 20:50:02         Vacation   \n",
       "71767  d904dda141238e6ad1b428bfbb21262d 2019-06-13 20:50:02  Dance Hall Days   \n",
       "71768  5731fc0a34c663a0c0082c712df15266 2021-07-01 00:00:00               17   \n",
       "\n",
       "      language          isrc                  genres  duration  \n",
       "0           EN  RUB422103970                 [DANCE]  161120.0  \n",
       "1           EN  QZN882178276           [ELECTRONICS]  362260.0  \n",
       "18          ES  GBKPL2174553  [POP, FOLK, LATINFOLK]  181230.0  \n",
       "25          HI  GX3HH2123738                  [FOLK]  153690.0  \n",
       "26          EN  QZS672179786                 [DANCE]  177190.0  \n",
       "...        ...           ...                     ...       ...  \n",
       "71762       EN  GBKPL1955058       [JAZZ, VOCALJAZZ]  152090.0  \n",
       "71764       FR  CAISO1800023                 [INDIE]  212690.0  \n",
       "71766       EN  USA2B1511447           [ALTERNATIVE]  215210.0  \n",
       "71767       EN  USA2B1511448           [ALTERNATIVE]  251010.0  \n",
       "71768       RU  FR59R1921791           [POP, RUSPOP]  175640.0  \n",
       "\n",
       "[21964 rows x 7 columns]"
      ]
     },
     "execution_count": 16,
     "metadata": {},
     "output_type": "execute_result"
    }
   ],
   "source": [
    "meta"
   ]
  },
  {
   "cell_type": "code",
   "execution_count": 26,
   "id": "e5d6a0ed",
   "metadata": {},
   "outputs": [
    {
     "name": "stdout",
     "output_type": "stream",
     "text": [
      "2009-08-10 21:32:06\n",
      "2023-10-18 00:00:00\n"
     ]
    }
   ],
   "source": [
    "print(meta['dttm'].min())\n",
    "print(meta['dttm'].max())"
   ]
  },
  {
   "cell_type": "markdown",
   "id": "2ba92110",
   "metadata": {},
   "source": [
    "Дату исправили. Посмотрим на распределение данных:"
   ]
  },
  {
   "cell_type": "code",
   "execution_count": 32,
   "id": "62528620",
   "metadata": {},
   "outputs": [
    {
     "data": {
      "text/plain": [
       "21964"
      ]
     },
     "execution_count": 32,
     "metadata": {},
     "output_type": "execute_result"
    }
   ],
   "source": [
    "meta['track_id'].nunique()"
   ]
  },
  {
   "cell_type": "markdown",
   "id": "95ecd008",
   "metadata": {},
   "source": [
    "Все значения `track_id` уникальны, что с названиями треков:"
   ]
  },
  {
   "cell_type": "code",
   "execution_count": 33,
   "id": "c21b24c1",
   "metadata": {},
   "outputs": [
    {
     "data": {
      "text/plain": [
       "Smooth Criminal            53\n",
       "Wicked Game                45\n",
       "Smells Like Teen Spirit    35\n",
       "Toxic                      32\n",
       "Baby One More Time         28\n",
       "                           ..\n",
       "Quick Death in Texas        1\n",
       "Brain Stew                  1\n",
       "Carolina Drama              1\n",
       "Everything We Need          1\n",
       "17                          1\n",
       "Name: title, Length: 16288, dtype: int64"
      ]
     },
     "execution_count": 33,
     "metadata": {},
     "output_type": "execute_result"
    }
   ],
   "source": [
    "meta['title'].value_counts()"
   ]
  },
  {
   "cell_type": "markdown",
   "id": "66476586",
   "metadata": {},
   "source": [
    "В названиях имеются повторы, но если `track_id` уникальны, то вероятно тут сидят и каверы."
   ]
  },
  {
   "cell_type": "code",
   "execution_count": 34,
   "id": "90c35958",
   "metadata": {},
   "outputs": [
    {
     "data": {
      "text/plain": [
       "Text(0.5, 1.0, 'Гистограмма распределения треков по языкам')"
      ]
     },
     "execution_count": 34,
     "metadata": {},
     "output_type": "execute_result"
    },
    {
     "data": {
      "image/png": "[encoded data removed]",
      "text/plain": [
       "<Figure size 640x480 with 1 Axes>"
      ]
     },
     "metadata": {},
     "output_type": "display_data"
    }
   ],
   "source": [
    "meta.groupby(['language']).sum().plot(kind='pie', subplots=True)\n",
    "plt.title('Гистограмма распределения треков по языкам')"
   ]
  },
  {
   "cell_type": "code",
   "execution_count": 35,
   "id": "6c83324b",
   "metadata": {},
   "outputs": [
    {
     "data": {
      "text/plain": [
       "EN    15322\n",
       "ES     1747\n",
       "RU     1553\n",
       "IT      907\n",
       "HI      285\n",
       "      ...  \n",
       "BM        1\n",
       "TN        1\n",
       "AB        1\n",
       "NY        1\n",
       "IU        1\n",
       "Name: language, Length: 85, dtype: int64"
      ]
     },
     "execution_count": 35,
     "metadata": {},
     "output_type": "execute_result"
    }
   ],
   "source": [
    "meta['language'].value_counts()"
   ]
  },
  {
   "cell_type": "markdown",
   "id": "804e27fb",
   "metadata": {},
   "source": [
    "Как видим, большую часть данных составляют англоязычные треки, далее идут испаноязычные и русскоязычные."
   ]
  },
  {
   "cell_type": "code",
   "execution_count": 36,
   "id": "338dd071",
   "metadata": {},
   "outputs": [
    {
     "data": {
      "text/plain": [
       "[POP]                                               5742\n",
       "[ROCK, ALLROCK]                                     2049\n",
       "[DANCE]                                             1357\n",
       "[FOLK, LATINFOLK]                                   1081\n",
       "[ELECTRONICS]                                       1070\n",
       "                                                    ... \n",
       "[SPIRITUAL, NEWAGE, ELECTRONICS]                       1\n",
       "[CLASSICAL, NEWAGE, ELECTRONICS, CLASSICALMUSIC]       1\n",
       "[REGGAE, SKA]                                          1\n",
       "[ROCK, ELECTRONICS, ALLROCK]                           1\n",
       "[ROCK, ALLROCK, FOLKGENRE]                             1\n",
       "Name: genres, Length: 210, dtype: int64"
      ]
     },
     "execution_count": 36,
     "metadata": {},
     "output_type": "execute_result"
    }
   ],
   "source": [
    "meta['genres'].value_counts()"
   ]
  },
  {
   "cell_type": "markdown",
   "id": "d0b8be0c",
   "metadata": {},
   "source": [
    "Самым популярным жанром оказался `POP`, далее идет `ROCK` и `DANCE`. Причем имеются многожанровые треки, поэтому и разброс уникальных значений столь велик."
   ]
  },
  {
   "cell_type": "code",
   "execution_count": 37,
   "id": "2a5e2319",
   "metadata": {},
   "outputs": [
    {
     "data": {
      "text/plain": [
       "21933"
      ]
     },
     "execution_count": 37,
     "metadata": {},
     "output_type": "execute_result"
    }
   ],
   "source": [
    "meta['isrc'].nunique()"
   ]
  },
  {
   "cell_type": "markdown",
   "id": "bab93373",
   "metadata": {},
   "source": [
    "Повторы имеются и в столбце `isrc`"
   ]
  },
  {
   "cell_type": "code",
   "execution_count": 39,
   "id": "8f95da93",
   "metadata": {},
   "outputs": [
    {
     "data": {
      "text/plain": [
       "QZGWX2002100    2\n",
       "GBAFQ0700594    2\n",
       "QZNC62100542    2\n",
       "QZGWW2040131    2\n",
       "USAT29901394    2\n",
       "               ..\n",
       "QZGWX2217144    1\n",
       "QZGWX2217143    1\n",
       "QZGWX2217142    1\n",
       "QZGWX2217141    1\n",
       "FR59R1921791    1\n",
       "Name: isrc, Length: 21933, dtype: int64"
      ]
     },
     "execution_count": 39,
     "metadata": {},
     "output_type": "execute_result"
    }
   ],
   "source": [
    "meta['isrc'].value_counts()"
   ]
  },
  {
   "cell_type": "markdown",
   "id": "63371aaf",
   "metadata": {},
   "source": [
    "Наглядно видны повторы... Если `isrc` - международный уникальный идентификатор трека, а `track_id` - уникальный идентификатор трека, то как может быть, что у нас все значения `track_id` уникальны, а значения `isrc` повторяются???"
   ]
  },
  {
   "cell_type": "markdown",
   "id": "ec90ca09",
   "metadata": {},
   "source": [
    "Столбец `duration` показывает длительноть треков:"
   ]
  },
  {
   "cell_type": "code",
   "execution_count": 45,
   "id": "f08dc61b",
   "metadata": {},
   "outputs": [
    {
     "name": "stdout",
     "output_type": "stream",
     "text": [
      "Медианная длительность трека составляет 202320.0\n"
     ]
    }
   ],
   "source": [
    "print(f\"Медианная длительность трека составляет\", meta['duration'].median())"
   ]
  },
  {
   "cell_type": "code",
   "execution_count": 46,
   "id": "7ffe51ed",
   "metadata": {},
   "outputs": [
    {
     "name": "stdout",
     "output_type": "stream",
     "text": [
      "Средняя длительность трека составляет 204612.5840921508\n"
     ]
    }
   ],
   "source": [
    "print(f\"Средняя длительность трека составляет\", meta['duration'].mean())"
   ]
  },
  {
   "cell_type": "code",
   "execution_count": null,
   "id": "3e7a188a",
   "metadata": {},
   "outputs": [],
   "source": []
  }
 ],
 "metadata": {
  "kernelspec": {
   "display_name": "Python 3 (ipykernel)",
   "language": "python",
   "name": "python3"
  },
  "language_info": {
   "codemirror_mode": {
    "name": "ipython",
    "version": 3
   },
   "file_extension": ".py",
   "mimetype": "text/x-python",
   "name": "python",
   "nbconvert_exporter": "python",
   "pygments_lexer": "ipython3",
   "version": "3.9.18"
  }
 },
 "nbformat": 4,
 "nbformat_minor": 5
}
